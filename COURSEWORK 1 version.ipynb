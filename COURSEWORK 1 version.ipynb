{
 "cells": [
  {
   "cell_type": "markdown",
   "id": "3d70fd2d",
   "metadata": {},
   "source": [
    "## Курсовая работа"
   ]
  },
  {
   "cell_type": "code",
   "execution_count": 1,
   "id": "1ddc75a4",
   "metadata": {},
   "outputs": [],
   "source": [
    "import pandas as pd\n",
    "import numpy as np\n",
    "import matplotlib\n",
    "import matplotlib.pyplot as plt\n",
    "import seaborn as sns\n",
    "from pylab import rcParams\n",
    "import random\n",
    "from datetime import date\n",
    "%matplotlib inline\n",
    "from sklearn.model_selection import train_test_split, KFold, GridSearchCV\n",
    "from sklearn.linear_model import LinearRegression\n",
    "from sklearn.ensemble import RandomForestRegressor\n",
    "from sklearn.metrics import r2_score as r2"
   ]
  },
  {
   "cell_type": "code",
   "execution_count": 2,
   "id": "8feb9067",
   "metadata": {},
   "outputs": [],
   "source": [
    "def evaluate_preds(train_true_values, train_pred_values, test_true_values, test_pred_values):\n",
    "    print(\"Train R2:\\t\" + str(round(r2(train_true_values, train_pred_values), 3)))\n",
    "    print(\"Test R2:\\t\" + str(round(r2(test_true_values, test_pred_values), 3)))\n",
    "    \n",
    "    plt.figure(figsize=(18,10))\n",
    "    \n",
    "    plt.subplot(121)\n",
    "    sns.scatterplot(x=train_pred_values, y=train_true_values)\n",
    "    plt.xlabel('Predicted values')\n",
    "    plt.ylabel('True values')\n",
    "    plt.title('Train sample prediction')\n",
    "    \n",
    "    plt.subplot(122)\n",
    "    sns.scatterplot(x=test_pred_values, y=test_true_values)\n",
    "    plt.xlabel('Predicted values')\n",
    "    plt.ylabel('True values')\n",
    "    plt.title('Test sample prediction')\n",
    "\n",
    "    plt.show()\n"
   ]
  },
  {
   "cell_type": "markdown",
   "id": "3ce5fa44",
   "metadata": {},
   "source": [
    "### 1 - Обзор обучающего датасета"
   ]
  },
  {
   "cell_type": "code",
   "execution_count": 3,
   "id": "c1dd681f",
   "metadata": {},
   "outputs": [],
   "source": [
    "train_df = pd.read_csv('C:/Users/ilyas/Desktop/train.CSV')\n",
    "test_df = pd.read_csv('C:/Users/ilyas/Desktop/test.CSV')"
   ]
  },
  {
   "cell_type": "markdown",
   "id": "e1935021",
   "metadata": {},
   "source": [
    "### Фичи\n",
    "#### Id - идентификационный номер квартиры\n",
    "#### DistrictId - идентификационный номер района\n",
    "#### Rooms - количество комнат\n",
    "#### Square - площадь\n",
    "#### LifeSquare - жилая площадь\n",
    "#### KitchenSquare - площадь кухни\n",
    "#### Floor - этаж\n",
    "#### HouseFloor - количество этажей в доме\n",
    "#### HouseYear - год постройки дома\n",
    "#### Ecology_1, Ecology_2, Ecology_3 - экологические показатели местности\n",
    "#### Social_1, Social_2, Social_3 - социальные показатели местности\n",
    "#### Healthcare_1, Helthcare_2 - показатели местности, связанные с охраной здоровья\n",
    "#### Shops_1, Shops_2 - показатели, связанные с наличием магазинов, торговых центров\n",
    "#### Price - цена квартиры"
   ]
  },
  {
   "cell_type": "code",
   "execution_count": 4,
   "id": "7510362d",
   "metadata": {},
   "outputs": [
    {
     "data": {
      "text/html": [
       "<div>\n",
       "<style scoped>\n",
       "    .dataframe tbody tr th:only-of-type {\n",
       "        vertical-align: middle;\n",
       "    }\n",
       "\n",
       "    .dataframe tbody tr th {\n",
       "        vertical-align: top;\n",
       "    }\n",
       "\n",
       "    .dataframe thead th {\n",
       "        text-align: right;\n",
       "    }\n",
       "</style>\n",
       "<table border=\"1\" class=\"dataframe\">\n",
       "  <thead>\n",
       "    <tr style=\"text-align: right;\">\n",
       "      <th></th>\n",
       "      <th>Id</th>\n",
       "      <th>DistrictId</th>\n",
       "      <th>Rooms</th>\n",
       "      <th>Square</th>\n",
       "      <th>LifeSquare</th>\n",
       "      <th>KitchenSquare</th>\n",
       "      <th>Floor</th>\n",
       "      <th>HouseFloor</th>\n",
       "      <th>HouseYear</th>\n",
       "      <th>Ecology_1</th>\n",
       "      <th>Social_1</th>\n",
       "      <th>Social_2</th>\n",
       "      <th>Social_3</th>\n",
       "      <th>Healthcare_1</th>\n",
       "      <th>Helthcare_2</th>\n",
       "      <th>Shops_1</th>\n",
       "      <th>Price</th>\n",
       "    </tr>\n",
       "  </thead>\n",
       "  <tbody>\n",
       "    <tr>\n",
       "      <th>count</th>\n",
       "      <td>10000.00000</td>\n",
       "      <td>10000.000000</td>\n",
       "      <td>10000.000000</td>\n",
       "      <td>10000.000000</td>\n",
       "      <td>7887.000000</td>\n",
       "      <td>10000.000000</td>\n",
       "      <td>10000.000000</td>\n",
       "      <td>10000.000000</td>\n",
       "      <td>1.000000e+04</td>\n",
       "      <td>10000.000000</td>\n",
       "      <td>10000.000000</td>\n",
       "      <td>10000.000000</td>\n",
       "      <td>10000.000000</td>\n",
       "      <td>5202.000000</td>\n",
       "      <td>10000.000000</td>\n",
       "      <td>10000.000000</td>\n",
       "      <td>10000.000000</td>\n",
       "    </tr>\n",
       "    <tr>\n",
       "      <th>mean</th>\n",
       "      <td>8383.40770</td>\n",
       "      <td>50.400800</td>\n",
       "      <td>1.890500</td>\n",
       "      <td>56.315775</td>\n",
       "      <td>37.199645</td>\n",
       "      <td>6.273300</td>\n",
       "      <td>8.526700</td>\n",
       "      <td>12.609400</td>\n",
       "      <td>3.990166e+03</td>\n",
       "      <td>0.118858</td>\n",
       "      <td>24.687000</td>\n",
       "      <td>5352.157400</td>\n",
       "      <td>8.039200</td>\n",
       "      <td>1142.904460</td>\n",
       "      <td>1.319500</td>\n",
       "      <td>4.231300</td>\n",
       "      <td>214138.857399</td>\n",
       "    </tr>\n",
       "    <tr>\n",
       "      <th>std</th>\n",
       "      <td>4859.01902</td>\n",
       "      <td>43.587592</td>\n",
       "      <td>0.839512</td>\n",
       "      <td>21.058732</td>\n",
       "      <td>86.241209</td>\n",
       "      <td>28.560917</td>\n",
       "      <td>5.241148</td>\n",
       "      <td>6.775974</td>\n",
       "      <td>2.005003e+05</td>\n",
       "      <td>0.119025</td>\n",
       "      <td>17.532614</td>\n",
       "      <td>4006.799803</td>\n",
       "      <td>23.831875</td>\n",
       "      <td>1021.517264</td>\n",
       "      <td>1.493601</td>\n",
       "      <td>4.806341</td>\n",
       "      <td>92872.293865</td>\n",
       "    </tr>\n",
       "    <tr>\n",
       "      <th>min</th>\n",
       "      <td>0.00000</td>\n",
       "      <td>0.000000</td>\n",
       "      <td>0.000000</td>\n",
       "      <td>1.136859</td>\n",
       "      <td>0.370619</td>\n",
       "      <td>0.000000</td>\n",
       "      <td>1.000000</td>\n",
       "      <td>0.000000</td>\n",
       "      <td>1.910000e+03</td>\n",
       "      <td>0.000000</td>\n",
       "      <td>0.000000</td>\n",
       "      <td>168.000000</td>\n",
       "      <td>0.000000</td>\n",
       "      <td>0.000000</td>\n",
       "      <td>0.000000</td>\n",
       "      <td>0.000000</td>\n",
       "      <td>59174.778028</td>\n",
       "    </tr>\n",
       "    <tr>\n",
       "      <th>25%</th>\n",
       "      <td>4169.50000</td>\n",
       "      <td>20.000000</td>\n",
       "      <td>1.000000</td>\n",
       "      <td>41.774881</td>\n",
       "      <td>22.769832</td>\n",
       "      <td>1.000000</td>\n",
       "      <td>4.000000</td>\n",
       "      <td>9.000000</td>\n",
       "      <td>1.974000e+03</td>\n",
       "      <td>0.017647</td>\n",
       "      <td>6.000000</td>\n",
       "      <td>1564.000000</td>\n",
       "      <td>0.000000</td>\n",
       "      <td>350.000000</td>\n",
       "      <td>0.000000</td>\n",
       "      <td>1.000000</td>\n",
       "      <td>153872.633942</td>\n",
       "    </tr>\n",
       "    <tr>\n",
       "      <th>50%</th>\n",
       "      <td>8394.50000</td>\n",
       "      <td>36.000000</td>\n",
       "      <td>2.000000</td>\n",
       "      <td>52.513310</td>\n",
       "      <td>32.781260</td>\n",
       "      <td>6.000000</td>\n",
       "      <td>7.000000</td>\n",
       "      <td>13.000000</td>\n",
       "      <td>1.977000e+03</td>\n",
       "      <td>0.075424</td>\n",
       "      <td>25.000000</td>\n",
       "      <td>5285.000000</td>\n",
       "      <td>2.000000</td>\n",
       "      <td>900.000000</td>\n",
       "      <td>1.000000</td>\n",
       "      <td>3.000000</td>\n",
       "      <td>192269.644879</td>\n",
       "    </tr>\n",
       "    <tr>\n",
       "      <th>75%</th>\n",
       "      <td>12592.50000</td>\n",
       "      <td>75.000000</td>\n",
       "      <td>2.000000</td>\n",
       "      <td>65.900625</td>\n",
       "      <td>45.128803</td>\n",
       "      <td>9.000000</td>\n",
       "      <td>12.000000</td>\n",
       "      <td>17.000000</td>\n",
       "      <td>2.001000e+03</td>\n",
       "      <td>0.195781</td>\n",
       "      <td>36.000000</td>\n",
       "      <td>7227.000000</td>\n",
       "      <td>5.000000</td>\n",
       "      <td>1548.000000</td>\n",
       "      <td>2.000000</td>\n",
       "      <td>6.000000</td>\n",
       "      <td>249135.462171</td>\n",
       "    </tr>\n",
       "    <tr>\n",
       "      <th>max</th>\n",
       "      <td>16798.00000</td>\n",
       "      <td>209.000000</td>\n",
       "      <td>19.000000</td>\n",
       "      <td>641.065193</td>\n",
       "      <td>7480.592129</td>\n",
       "      <td>2014.000000</td>\n",
       "      <td>42.000000</td>\n",
       "      <td>117.000000</td>\n",
       "      <td>2.005201e+07</td>\n",
       "      <td>0.521867</td>\n",
       "      <td>74.000000</td>\n",
       "      <td>19083.000000</td>\n",
       "      <td>141.000000</td>\n",
       "      <td>4849.000000</td>\n",
       "      <td>6.000000</td>\n",
       "      <td>23.000000</td>\n",
       "      <td>633233.466570</td>\n",
       "    </tr>\n",
       "  </tbody>\n",
       "</table>\n",
       "</div>"
      ],
      "text/plain": [
       "                Id    DistrictId         Rooms        Square   LifeSquare  \\\n",
       "count  10000.00000  10000.000000  10000.000000  10000.000000  7887.000000   \n",
       "mean    8383.40770     50.400800      1.890500     56.315775    37.199645   \n",
       "std     4859.01902     43.587592      0.839512     21.058732    86.241209   \n",
       "min        0.00000      0.000000      0.000000      1.136859     0.370619   \n",
       "25%     4169.50000     20.000000      1.000000     41.774881    22.769832   \n",
       "50%     8394.50000     36.000000      2.000000     52.513310    32.781260   \n",
       "75%    12592.50000     75.000000      2.000000     65.900625    45.128803   \n",
       "max    16798.00000    209.000000     19.000000    641.065193  7480.592129   \n",
       "\n",
       "       KitchenSquare         Floor    HouseFloor     HouseYear     Ecology_1  \\\n",
       "count   10000.000000  10000.000000  10000.000000  1.000000e+04  10000.000000   \n",
       "mean        6.273300      8.526700     12.609400  3.990166e+03      0.118858   \n",
       "std        28.560917      5.241148      6.775974  2.005003e+05      0.119025   \n",
       "min         0.000000      1.000000      0.000000  1.910000e+03      0.000000   \n",
       "25%         1.000000      4.000000      9.000000  1.974000e+03      0.017647   \n",
       "50%         6.000000      7.000000     13.000000  1.977000e+03      0.075424   \n",
       "75%         9.000000     12.000000     17.000000  2.001000e+03      0.195781   \n",
       "max      2014.000000     42.000000    117.000000  2.005201e+07      0.521867   \n",
       "\n",
       "           Social_1      Social_2      Social_3  Healthcare_1   Helthcare_2  \\\n",
       "count  10000.000000  10000.000000  10000.000000   5202.000000  10000.000000   \n",
       "mean      24.687000   5352.157400      8.039200   1142.904460      1.319500   \n",
       "std       17.532614   4006.799803     23.831875   1021.517264      1.493601   \n",
       "min        0.000000    168.000000      0.000000      0.000000      0.000000   \n",
       "25%        6.000000   1564.000000      0.000000    350.000000      0.000000   \n",
       "50%       25.000000   5285.000000      2.000000    900.000000      1.000000   \n",
       "75%       36.000000   7227.000000      5.000000   1548.000000      2.000000   \n",
       "max       74.000000  19083.000000    141.000000   4849.000000      6.000000   \n",
       "\n",
       "            Shops_1          Price  \n",
       "count  10000.000000   10000.000000  \n",
       "mean       4.231300  214138.857399  \n",
       "std        4.806341   92872.293865  \n",
       "min        0.000000   59174.778028  \n",
       "25%        1.000000  153872.633942  \n",
       "50%        3.000000  192269.644879  \n",
       "75%        6.000000  249135.462171  \n",
       "max       23.000000  633233.466570  "
      ]
     },
     "execution_count": 4,
     "metadata": {},
     "output_type": "execute_result"
    }
   ],
   "source": [
    "train_df.describe()"
   ]
  },
  {
   "cell_type": "code",
   "execution_count": 5,
   "id": "f7ee519f",
   "metadata": {},
   "outputs": [
    {
     "name": "stdout",
     "output_type": "stream",
     "text": [
      "<class 'pandas.core.frame.DataFrame'>\n",
      "RangeIndex: 10000 entries, 0 to 9999\n",
      "Data columns (total 20 columns):\n",
      " #   Column         Non-Null Count  Dtype  \n",
      "---  ------         --------------  -----  \n",
      " 0   Id             10000 non-null  int64  \n",
      " 1   DistrictId     10000 non-null  int64  \n",
      " 2   Rooms          10000 non-null  float64\n",
      " 3   Square         10000 non-null  float64\n",
      " 4   LifeSquare     7887 non-null   float64\n",
      " 5   KitchenSquare  10000 non-null  float64\n",
      " 6   Floor          10000 non-null  int64  \n",
      " 7   HouseFloor     10000 non-null  float64\n",
      " 8   HouseYear      10000 non-null  int64  \n",
      " 9   Ecology_1      10000 non-null  float64\n",
      " 10  Ecology_2      10000 non-null  object \n",
      " 11  Ecology_3      10000 non-null  object \n",
      " 12  Social_1       10000 non-null  int64  \n",
      " 13  Social_2       10000 non-null  int64  \n",
      " 14  Social_3       10000 non-null  int64  \n",
      " 15  Healthcare_1   5202 non-null   float64\n",
      " 16  Helthcare_2    10000 non-null  int64  \n",
      " 17  Shops_1        10000 non-null  int64  \n",
      " 18  Shops_2        10000 non-null  object \n",
      " 19  Price          10000 non-null  float64\n",
      "dtypes: float64(8), int64(9), object(3)\n",
      "memory usage: 1.5+ MB\n"
     ]
    }
   ],
   "source": [
    "train_df.info()"
   ]
  },
  {
   "cell_type": "code",
   "execution_count": 6,
   "id": "ab301f47",
   "metadata": {},
   "outputs": [
    {
     "data": {
      "text/html": [
       "<div>\n",
       "<style scoped>\n",
       "    .dataframe tbody tr th:only-of-type {\n",
       "        vertical-align: middle;\n",
       "    }\n",
       "\n",
       "    .dataframe tbody tr th {\n",
       "        vertical-align: top;\n",
       "    }\n",
       "\n",
       "    .dataframe thead th {\n",
       "        text-align: right;\n",
       "    }\n",
       "</style>\n",
       "<table border=\"1\" class=\"dataframe\">\n",
       "  <thead>\n",
       "    <tr style=\"text-align: right;\">\n",
       "      <th></th>\n",
       "      <th>Id</th>\n",
       "      <th>DistrictId</th>\n",
       "      <th>Rooms</th>\n",
       "      <th>Square</th>\n",
       "      <th>LifeSquare</th>\n",
       "      <th>KitchenSquare</th>\n",
       "      <th>Floor</th>\n",
       "      <th>HouseFloor</th>\n",
       "      <th>HouseYear</th>\n",
       "      <th>Ecology_1</th>\n",
       "      <th>Ecology_2</th>\n",
       "      <th>Ecology_3</th>\n",
       "      <th>Social_1</th>\n",
       "      <th>Social_2</th>\n",
       "      <th>Social_3</th>\n",
       "      <th>Healthcare_1</th>\n",
       "      <th>Helthcare_2</th>\n",
       "      <th>Shops_1</th>\n",
       "      <th>Shops_2</th>\n",
       "      <th>Price</th>\n",
       "    </tr>\n",
       "  </thead>\n",
       "  <tbody>\n",
       "    <tr>\n",
       "      <th>9995</th>\n",
       "      <td>1260</td>\n",
       "      <td>61</td>\n",
       "      <td>2.0</td>\n",
       "      <td>49.090728</td>\n",
       "      <td>33.272626</td>\n",
       "      <td>6.0</td>\n",
       "      <td>3</td>\n",
       "      <td>12.0</td>\n",
       "      <td>1981</td>\n",
       "      <td>0.300323</td>\n",
       "      <td>B</td>\n",
       "      <td>B</td>\n",
       "      <td>52</td>\n",
       "      <td>10311</td>\n",
       "      <td>6</td>\n",
       "      <td>NaN</td>\n",
       "      <td>1</td>\n",
       "      <td>9</td>\n",
       "      <td>B</td>\n",
       "      <td>119367.455796</td>\n",
       "    </tr>\n",
       "    <tr>\n",
       "      <th>9996</th>\n",
       "      <td>16265</td>\n",
       "      <td>27</td>\n",
       "      <td>2.0</td>\n",
       "      <td>64.307684</td>\n",
       "      <td>37.038420</td>\n",
       "      <td>9.0</td>\n",
       "      <td>13</td>\n",
       "      <td>0.0</td>\n",
       "      <td>1977</td>\n",
       "      <td>0.072158</td>\n",
       "      <td>B</td>\n",
       "      <td>B</td>\n",
       "      <td>2</td>\n",
       "      <td>629</td>\n",
       "      <td>1</td>\n",
       "      <td>NaN</td>\n",
       "      <td>0</td>\n",
       "      <td>0</td>\n",
       "      <td>A</td>\n",
       "      <td>199715.148807</td>\n",
       "    </tr>\n",
       "    <tr>\n",
       "      <th>9997</th>\n",
       "      <td>2795</td>\n",
       "      <td>178</td>\n",
       "      <td>1.0</td>\n",
       "      <td>29.648057</td>\n",
       "      <td>16.555363</td>\n",
       "      <td>5.0</td>\n",
       "      <td>3</td>\n",
       "      <td>5.0</td>\n",
       "      <td>1958</td>\n",
       "      <td>0.460556</td>\n",
       "      <td>B</td>\n",
       "      <td>B</td>\n",
       "      <td>20</td>\n",
       "      <td>4386</td>\n",
       "      <td>14</td>\n",
       "      <td>NaN</td>\n",
       "      <td>1</td>\n",
       "      <td>5</td>\n",
       "      <td>B</td>\n",
       "      <td>165953.912580</td>\n",
       "    </tr>\n",
       "    <tr>\n",
       "      <th>9998</th>\n",
       "      <td>14561</td>\n",
       "      <td>21</td>\n",
       "      <td>1.0</td>\n",
       "      <td>32.330292</td>\n",
       "      <td>22.326870</td>\n",
       "      <td>5.0</td>\n",
       "      <td>3</td>\n",
       "      <td>9.0</td>\n",
       "      <td>1969</td>\n",
       "      <td>0.194489</td>\n",
       "      <td>B</td>\n",
       "      <td>B</td>\n",
       "      <td>47</td>\n",
       "      <td>8004</td>\n",
       "      <td>3</td>\n",
       "      <td>125.0</td>\n",
       "      <td>3</td>\n",
       "      <td>5</td>\n",
       "      <td>B</td>\n",
       "      <td>171842.411855</td>\n",
       "    </tr>\n",
       "    <tr>\n",
       "      <th>9999</th>\n",
       "      <td>7202</td>\n",
       "      <td>94</td>\n",
       "      <td>1.0</td>\n",
       "      <td>35.815476</td>\n",
       "      <td>22.301367</td>\n",
       "      <td>6.0</td>\n",
       "      <td>9</td>\n",
       "      <td>9.0</td>\n",
       "      <td>1975</td>\n",
       "      <td>0.127376</td>\n",
       "      <td>B</td>\n",
       "      <td>B</td>\n",
       "      <td>43</td>\n",
       "      <td>8429</td>\n",
       "      <td>3</td>\n",
       "      <td>NaN</td>\n",
       "      <td>3</td>\n",
       "      <td>9</td>\n",
       "      <td>B</td>\n",
       "      <td>177685.627486</td>\n",
       "    </tr>\n",
       "  </tbody>\n",
       "</table>\n",
       "</div>"
      ],
      "text/plain": [
       "         Id  DistrictId  Rooms     Square  LifeSquare  KitchenSquare  Floor  \\\n",
       "9995   1260          61    2.0  49.090728   33.272626            6.0      3   \n",
       "9996  16265          27    2.0  64.307684   37.038420            9.0     13   \n",
       "9997   2795         178    1.0  29.648057   16.555363            5.0      3   \n",
       "9998  14561          21    1.0  32.330292   22.326870            5.0      3   \n",
       "9999   7202          94    1.0  35.815476   22.301367            6.0      9   \n",
       "\n",
       "      HouseFloor  HouseYear  Ecology_1 Ecology_2 Ecology_3  Social_1  \\\n",
       "9995        12.0       1981   0.300323         B         B        52   \n",
       "9996         0.0       1977   0.072158         B         B         2   \n",
       "9997         5.0       1958   0.460556         B         B        20   \n",
       "9998         9.0       1969   0.194489         B         B        47   \n",
       "9999         9.0       1975   0.127376         B         B        43   \n",
       "\n",
       "      Social_2  Social_3  Healthcare_1  Helthcare_2  Shops_1 Shops_2  \\\n",
       "9995     10311         6           NaN            1        9       B   \n",
       "9996       629         1           NaN            0        0       A   \n",
       "9997      4386        14           NaN            1        5       B   \n",
       "9998      8004         3         125.0            3        5       B   \n",
       "9999      8429         3           NaN            3        9       B   \n",
       "\n",
       "              Price  \n",
       "9995  119367.455796  \n",
       "9996  199715.148807  \n",
       "9997  165953.912580  \n",
       "9998  171842.411855  \n",
       "9999  177685.627486  "
      ]
     },
     "execution_count": 6,
     "metadata": {},
     "output_type": "execute_result"
    }
   ],
   "source": [
    "train_df.tail()"
   ]
  },
  {
   "cell_type": "code",
   "execution_count": 7,
   "id": "edbc793f",
   "metadata": {},
   "outputs": [
    {
     "data": {
      "text/plain": [
       "Id                  0\n",
       "DistrictId          0\n",
       "Rooms               0\n",
       "Square              0\n",
       "LifeSquare       2113\n",
       "KitchenSquare       0\n",
       "Floor               0\n",
       "HouseFloor          0\n",
       "HouseYear           0\n",
       "Ecology_1           0\n",
       "Ecology_2           0\n",
       "Ecology_3           0\n",
       "Social_1            0\n",
       "Social_2            0\n",
       "Social_3            0\n",
       "Healthcare_1     4798\n",
       "Helthcare_2         0\n",
       "Shops_1             0\n",
       "Shops_2             0\n",
       "Price               0\n",
       "dtype: int64"
      ]
     },
     "execution_count": 7,
     "metadata": {},
     "output_type": "execute_result"
    }
   ],
   "source": [
    "len(train_df) - train_df.count()"
   ]
  },
  {
   "cell_type": "markdown",
   "id": "e68c8409",
   "metadata": {},
   "source": [
    "### 2 - EDA и очистка данных"
   ]
  },
  {
   "cell_type": "markdown",
   "id": "2bd27cb4",
   "metadata": {},
   "source": [
    "#### Посмотрим распределение целевой переменной"
   ]
  },
  {
   "cell_type": "code",
   "execution_count": 8,
   "id": "848321d1",
   "metadata": {},
   "outputs": [
    {
     "data": {
      "image/png": "[encoded data removed]",
      "text/plain": [
       "<Figure size 1152x576 with 1 Axes>"
      ]
     },
     "metadata": {
      "needs_background": "light"
     },
     "output_type": "display_data"
    }
   ],
   "source": [
    "plt.figure(figsize=(16, 8))\n",
    "train_df['Price'].hist(density=True, bins=50)\n",
    "plt.xlabel('Price')\n",
    "plt.ylabel('Count')\n",
    "plt.title('Распределение целевой переменной')\n",
    "plt.show()"
   ]
  },
  {
   "cell_type": "code",
   "execution_count": 9,
   "id": "5d8702ee",
   "metadata": {},
   "outputs": [
    {
     "name": "stderr",
     "output_type": "stream",
     "text": [
      "C:\\Users\\ilyas\\anaconda3\\lib\\site-packages\\seaborn\\distributions.py:2619: FutureWarning: `distplot` is a deprecated function and will be removed in a future version. Please adapt your code to use either `displot` (a figure-level function with similar flexibility) or `histplot` (an axes-level function for histograms).\n",
      "  warnings.warn(msg, FutureWarning)\n"
     ]
    },
    {
     "data": {
      "image/png": "[encoded data removed]",
      "text/plain": [
       "<Figure size 1152x576 with 1 Axes>"
      ]
     },
     "metadata": {
      "needs_background": "light"
     },
     "output_type": "display_data"
    }
   ],
   "source": [
    "plt.figure(figsize=(16, 8))\n",
    "\n",
    "sns.distplot(train_df['Price'], bins=100)\n",
    "\n",
    "y = np.linspace(0, 0.000008, 10)\n",
    "plt.plot([train_df['Price'].mean()] * 10, y, label = 'mean', linewidth = 4)\n",
    "plt.plot([train_df['Price'].median()] * 10, y, label = 'mediana', linewidth = 4)\n",
    "\n",
    "plt.xlabel('Price')\n",
    "plt.ylabel('Count')\n",
    "plt.title('Распределение целевой переменной')\n",
    "plt.legend()\n",
    "plt.show()"
   ]
  },
  {
   "cell_type": "markdown",
   "id": "be6079be",
   "metadata": {},
   "source": [
    "#### Посмотрим распределение фичей"
   ]
  },
  {
   "cell_type": "code",
   "execution_count": 10,
   "id": "57e5a569",
   "metadata": {},
   "outputs": [],
   "source": [
    "train_df['Id'] = train_df['Id'].astype(str)"
   ]
  },
  {
   "cell_type": "code",
   "execution_count": 11,
   "id": "fa7dff36",
   "metadata": {},
   "outputs": [
    {
     "data": {
      "text/plain": [
       "Index(['Id', 'DistrictId', 'Rooms', 'Square', 'LifeSquare', 'KitchenSquare',\n",
       "       'Floor', 'HouseFloor', 'HouseYear', 'Ecology_1', 'Ecology_2',\n",
       "       'Ecology_3', 'Social_1', 'Social_2', 'Social_3', 'Healthcare_1',\n",
       "       'Helthcare_2', 'Shops_1', 'Shops_2', 'Price'],\n",
       "      dtype='object')"
      ]
     },
     "execution_count": 11,
     "metadata": {},
     "output_type": "execute_result"
    }
   ],
   "source": [
    "train_df.columns"
   ]
  },
  {
   "cell_type": "code",
   "execution_count": 12,
   "id": "ba2aee5f",
   "metadata": {},
   "outputs": [
    {
     "data": {
      "text/html": [
       "<div>\n",
       "<style scoped>\n",
       "    .dataframe tbody tr th:only-of-type {\n",
       "        vertical-align: middle;\n",
       "    }\n",
       "\n",
       "    .dataframe tbody tr th {\n",
       "        vertical-align: top;\n",
       "    }\n",
       "\n",
       "    .dataframe thead th {\n",
       "        text-align: right;\n",
       "    }\n",
       "</style>\n",
       "<table border=\"1\" class=\"dataframe\">\n",
       "  <thead>\n",
       "    <tr style=\"text-align: right;\">\n",
       "      <th></th>\n",
       "      <th>Id</th>\n",
       "      <th>DistrictId</th>\n",
       "      <th>Rooms</th>\n",
       "      <th>Square</th>\n",
       "      <th>LifeSquare</th>\n",
       "      <th>KitchenSquare</th>\n",
       "      <th>Floor</th>\n",
       "      <th>HouseFloor</th>\n",
       "      <th>HouseYear</th>\n",
       "      <th>Ecology_1</th>\n",
       "      <th>Ecology_2</th>\n",
       "      <th>Ecology_3</th>\n",
       "      <th>Social_1</th>\n",
       "      <th>Social_2</th>\n",
       "      <th>Social_3</th>\n",
       "      <th>Healthcare_1</th>\n",
       "      <th>Helthcare_2</th>\n",
       "      <th>Shops_1</th>\n",
       "      <th>Shops_2</th>\n",
       "    </tr>\n",
       "  </thead>\n",
       "  <tbody>\n",
       "    <tr>\n",
       "      <th>0</th>\n",
       "      <td>11809</td>\n",
       "      <td>27</td>\n",
       "      <td>3.0</td>\n",
       "      <td>115.027311</td>\n",
       "      <td>NaN</td>\n",
       "      <td>10.0</td>\n",
       "      <td>4</td>\n",
       "      <td>10.0</td>\n",
       "      <td>2014</td>\n",
       "      <td>0.075424</td>\n",
       "      <td>B</td>\n",
       "      <td>B</td>\n",
       "      <td>11</td>\n",
       "      <td>3097</td>\n",
       "      <td>0</td>\n",
       "      <td>NaN</td>\n",
       "      <td>0</td>\n",
       "      <td>0</td>\n",
       "      <td>B</td>\n",
       "    </tr>\n",
       "    <tr>\n",
       "      <th>1</th>\n",
       "      <td>3013</td>\n",
       "      <td>22</td>\n",
       "      <td>1.0</td>\n",
       "      <td>39.832524</td>\n",
       "      <td>23.169223</td>\n",
       "      <td>8.0</td>\n",
       "      <td>7</td>\n",
       "      <td>8.0</td>\n",
       "      <td>1966</td>\n",
       "      <td>0.118537</td>\n",
       "      <td>B</td>\n",
       "      <td>B</td>\n",
       "      <td>30</td>\n",
       "      <td>6207</td>\n",
       "      <td>1</td>\n",
       "      <td>1183.0</td>\n",
       "      <td>1</td>\n",
       "      <td>0</td>\n",
       "      <td>B</td>\n",
       "    </tr>\n",
       "    <tr>\n",
       "      <th>2</th>\n",
       "      <td>8215</td>\n",
       "      <td>1</td>\n",
       "      <td>3.0</td>\n",
       "      <td>78.342215</td>\n",
       "      <td>47.671972</td>\n",
       "      <td>10.0</td>\n",
       "      <td>2</td>\n",
       "      <td>17.0</td>\n",
       "      <td>1988</td>\n",
       "      <td>0.025609</td>\n",
       "      <td>B</td>\n",
       "      <td>B</td>\n",
       "      <td>33</td>\n",
       "      <td>5261</td>\n",
       "      <td>0</td>\n",
       "      <td>240.0</td>\n",
       "      <td>3</td>\n",
       "      <td>1</td>\n",
       "      <td>B</td>\n",
       "    </tr>\n",
       "    <tr>\n",
       "      <th>3</th>\n",
       "      <td>2352</td>\n",
       "      <td>1</td>\n",
       "      <td>1.0</td>\n",
       "      <td>40.409907</td>\n",
       "      <td>NaN</td>\n",
       "      <td>1.0</td>\n",
       "      <td>10</td>\n",
       "      <td>22.0</td>\n",
       "      <td>1977</td>\n",
       "      <td>0.007122</td>\n",
       "      <td>B</td>\n",
       "      <td>B</td>\n",
       "      <td>1</td>\n",
       "      <td>264</td>\n",
       "      <td>0</td>\n",
       "      <td>NaN</td>\n",
       "      <td>0</td>\n",
       "      <td>1</td>\n",
       "      <td>B</td>\n",
       "    </tr>\n",
       "    <tr>\n",
       "      <th>4</th>\n",
       "      <td>13866</td>\n",
       "      <td>94</td>\n",
       "      <td>2.0</td>\n",
       "      <td>64.285067</td>\n",
       "      <td>38.562517</td>\n",
       "      <td>9.0</td>\n",
       "      <td>16</td>\n",
       "      <td>16.0</td>\n",
       "      <td>1972</td>\n",
       "      <td>0.282798</td>\n",
       "      <td>B</td>\n",
       "      <td>B</td>\n",
       "      <td>33</td>\n",
       "      <td>8667</td>\n",
       "      <td>2</td>\n",
       "      <td>NaN</td>\n",
       "      <td>0</td>\n",
       "      <td>6</td>\n",
       "      <td>B</td>\n",
       "    </tr>\n",
       "    <tr>\n",
       "      <th>...</th>\n",
       "      <td>...</td>\n",
       "      <td>...</td>\n",
       "      <td>...</td>\n",
       "      <td>...</td>\n",
       "      <td>...</td>\n",
       "      <td>...</td>\n",
       "      <td>...</td>\n",
       "      <td>...</td>\n",
       "      <td>...</td>\n",
       "      <td>...</td>\n",
       "      <td>...</td>\n",
       "      <td>...</td>\n",
       "      <td>...</td>\n",
       "      <td>...</td>\n",
       "      <td>...</td>\n",
       "      <td>...</td>\n",
       "      <td>...</td>\n",
       "      <td>...</td>\n",
       "      <td>...</td>\n",
       "    </tr>\n",
       "    <tr>\n",
       "      <th>9995</th>\n",
       "      <td>1260</td>\n",
       "      <td>61</td>\n",
       "      <td>2.0</td>\n",
       "      <td>49.090728</td>\n",
       "      <td>33.272626</td>\n",
       "      <td>6.0</td>\n",
       "      <td>3</td>\n",
       "      <td>12.0</td>\n",
       "      <td>1981</td>\n",
       "      <td>0.300323</td>\n",
       "      <td>B</td>\n",
       "      <td>B</td>\n",
       "      <td>52</td>\n",
       "      <td>10311</td>\n",
       "      <td>6</td>\n",
       "      <td>NaN</td>\n",
       "      <td>1</td>\n",
       "      <td>9</td>\n",
       "      <td>B</td>\n",
       "    </tr>\n",
       "    <tr>\n",
       "      <th>9996</th>\n",
       "      <td>16265</td>\n",
       "      <td>27</td>\n",
       "      <td>2.0</td>\n",
       "      <td>64.307684</td>\n",
       "      <td>37.038420</td>\n",
       "      <td>9.0</td>\n",
       "      <td>13</td>\n",
       "      <td>0.0</td>\n",
       "      <td>1977</td>\n",
       "      <td>0.072158</td>\n",
       "      <td>B</td>\n",
       "      <td>B</td>\n",
       "      <td>2</td>\n",
       "      <td>629</td>\n",
       "      <td>1</td>\n",
       "      <td>NaN</td>\n",
       "      <td>0</td>\n",
       "      <td>0</td>\n",
       "      <td>A</td>\n",
       "    </tr>\n",
       "    <tr>\n",
       "      <th>9997</th>\n",
       "      <td>2795</td>\n",
       "      <td>178</td>\n",
       "      <td>1.0</td>\n",
       "      <td>29.648057</td>\n",
       "      <td>16.555363</td>\n",
       "      <td>5.0</td>\n",
       "      <td>3</td>\n",
       "      <td>5.0</td>\n",
       "      <td>1958</td>\n",
       "      <td>0.460556</td>\n",
       "      <td>B</td>\n",
       "      <td>B</td>\n",
       "      <td>20</td>\n",
       "      <td>4386</td>\n",
       "      <td>14</td>\n",
       "      <td>NaN</td>\n",
       "      <td>1</td>\n",
       "      <td>5</td>\n",
       "      <td>B</td>\n",
       "    </tr>\n",
       "    <tr>\n",
       "      <th>9998</th>\n",
       "      <td>14561</td>\n",
       "      <td>21</td>\n",
       "      <td>1.0</td>\n",
       "      <td>32.330292</td>\n",
       "      <td>22.326870</td>\n",
       "      <td>5.0</td>\n",
       "      <td>3</td>\n",
       "      <td>9.0</td>\n",
       "      <td>1969</td>\n",
       "      <td>0.194489</td>\n",
       "      <td>B</td>\n",
       "      <td>B</td>\n",
       "      <td>47</td>\n",
       "      <td>8004</td>\n",
       "      <td>3</td>\n",
       "      <td>125.0</td>\n",
       "      <td>3</td>\n",
       "      <td>5</td>\n",
       "      <td>B</td>\n",
       "    </tr>\n",
       "    <tr>\n",
       "      <th>9999</th>\n",
       "      <td>7202</td>\n",
       "      <td>94</td>\n",
       "      <td>1.0</td>\n",
       "      <td>35.815476</td>\n",
       "      <td>22.301367</td>\n",
       "      <td>6.0</td>\n",
       "      <td>9</td>\n",
       "      <td>9.0</td>\n",
       "      <td>1975</td>\n",
       "      <td>0.127376</td>\n",
       "      <td>B</td>\n",
       "      <td>B</td>\n",
       "      <td>43</td>\n",
       "      <td>8429</td>\n",
       "      <td>3</td>\n",
       "      <td>NaN</td>\n",
       "      <td>3</td>\n",
       "      <td>9</td>\n",
       "      <td>B</td>\n",
       "    </tr>\n",
       "  </tbody>\n",
       "</table>\n",
       "<p>10000 rows × 19 columns</p>\n",
       "</div>"
      ],
      "text/plain": [
       "         Id  DistrictId  Rooms      Square  LifeSquare  KitchenSquare  Floor  \\\n",
       "0     11809          27    3.0  115.027311         NaN           10.0      4   \n",
       "1      3013          22    1.0   39.832524   23.169223            8.0      7   \n",
       "2      8215           1    3.0   78.342215   47.671972           10.0      2   \n",
       "3      2352           1    1.0   40.409907         NaN            1.0     10   \n",
       "4     13866          94    2.0   64.285067   38.562517            9.0     16   \n",
       "...     ...         ...    ...         ...         ...            ...    ...   \n",
       "9995   1260          61    2.0   49.090728   33.272626            6.0      3   \n",
       "9996  16265          27    2.0   64.307684   37.038420            9.0     13   \n",
       "9997   2795         178    1.0   29.648057   16.555363            5.0      3   \n",
       "9998  14561          21    1.0   32.330292   22.326870            5.0      3   \n",
       "9999   7202          94    1.0   35.815476   22.301367            6.0      9   \n",
       "\n",
       "      HouseFloor  HouseYear  Ecology_1 Ecology_2 Ecology_3  Social_1  \\\n",
       "0           10.0       2014   0.075424         B         B        11   \n",
       "1            8.0       1966   0.118537         B         B        30   \n",
       "2           17.0       1988   0.025609         B         B        33   \n",
       "3           22.0       1977   0.007122         B         B         1   \n",
       "4           16.0       1972   0.282798         B         B        33   \n",
       "...          ...        ...        ...       ...       ...       ...   \n",
       "9995        12.0       1981   0.300323         B         B        52   \n",
       "9996         0.0       1977   0.072158         B         B         2   \n",
       "9997         5.0       1958   0.460556         B         B        20   \n",
       "9998         9.0       1969   0.194489         B         B        47   \n",
       "9999         9.0       1975   0.127376         B         B        43   \n",
       "\n",
       "      Social_2  Social_3  Healthcare_1  Helthcare_2  Shops_1 Shops_2  \n",
       "0         3097         0           NaN            0        0       B  \n",
       "1         6207         1        1183.0            1        0       B  \n",
       "2         5261         0         240.0            3        1       B  \n",
       "3          264         0           NaN            0        1       B  \n",
       "4         8667         2           NaN            0        6       B  \n",
       "...        ...       ...           ...          ...      ...     ...  \n",
       "9995     10311         6           NaN            1        9       B  \n",
       "9996       629         1           NaN            0        0       A  \n",
       "9997      4386        14           NaN            1        5       B  \n",
       "9998      8004         3         125.0            3        5       B  \n",
       "9999      8429         3           NaN            3        9       B  \n",
       "\n",
       "[10000 rows x 19 columns]"
      ]
     },
     "execution_count": 12,
     "metadata": {},
     "output_type": "execute_result"
    }
   ],
   "source": [
    "features = pd.DataFrame(train_df.drop('Price', axis=1), columns = ['Id', 'DistrictId', 'Rooms', 'Square', 'LifeSquare', 'KitchenSquare',\n",
    "       'Floor', 'HouseFloor', 'HouseYear', 'Ecology_1', 'Ecology_2',\n",
    "       'Ecology_3', 'Social_1', 'Social_2', 'Social_3', 'Healthcare_1',\n",
    "       'Helthcare_2', 'Shops_1', 'Shops_2'])\n",
    "features"
   ]
  },
  {
   "cell_type": "code",
   "execution_count": 13,
   "id": "1cdb82bc",
   "metadata": {},
   "outputs": [],
   "source": [
    "features = features.drop('Id', axis=1)"
   ]
  },
  {
   "cell_type": "code",
   "execution_count": 14,
   "id": "f037d1d2",
   "metadata": {
    "scrolled": false
   },
   "outputs": [
    {
     "data": {
      "image/png": "[encoded data removed]",
      "text/plain": [
       "<Figure size 1152x1152 with 16 Axes>"
      ]
     },
     "metadata": {
      "needs_background": "light"
     },
     "output_type": "display_data"
    }
   ],
   "source": [
    "features.hist(figsize=(16,16), bins= 20, grid=False);"
   ]
  },
  {
   "cell_type": "markdown",
   "id": "90df7044",
   "metadata": {},
   "source": [
    "### 3 - Приведение данных\n",
    "#### ROOMS"
   ]
  },
  {
   "cell_type": "code",
   "execution_count": 15,
   "id": "822937bf",
   "metadata": {},
   "outputs": [
    {
     "data": {
      "image/png": "[encoded data removed]",
      "text/plain": [
       "<Figure size 432x432 with 2 Axes>"
      ]
     },
     "metadata": {
      "needs_background": "light"
     },
     "output_type": "display_data"
    }
   ],
   "source": [
    "fig, ax = plt.subplots(nrows=1, ncols=2)\n",
    "ax1, ax2 = ax.flatten()\n",
    "ax1.hist(features['Rooms'], bins = 70)\n",
    "ax2.boxplot(features['Rooms'], whis=1.5)\n",
    "fig.set_size_inches(6,6)\n",
    "plt.show()"
   ]
  },
  {
   "cell_type": "code",
   "execution_count": 16,
   "id": "761f29b2",
   "metadata": {},
   "outputs": [
    {
     "data": {
      "text/plain": [
       "2.0     3880\n",
       "1.0     3705\n",
       "3.0     2235\n",
       "4.0      150\n",
       "5.0       18\n",
       "0.0        8\n",
       "10.0       2\n",
       "19.0       1\n",
       "6.0        1\n",
       "Name: Rooms, dtype: int64"
      ]
     },
     "execution_count": 16,
     "metadata": {},
     "output_type": "execute_result"
    }
   ],
   "source": [
    "features['Rooms'].value_counts()"
   ]
  },
  {
   "cell_type": "code",
   "execution_count": 17,
   "id": "3cf96051",
   "metadata": {},
   "outputs": [],
   "source": [
    "features.loc[(features['Rooms'] > 6) | (features['Rooms'] < 1), 'Rooms'] = features['Rooms'].median()"
   ]
  },
  {
   "cell_type": "markdown",
   "id": "59b7d86f",
   "metadata": {},
   "source": [
    "#### KitchenSquare"
   ]
  },
  {
   "cell_type": "code",
   "execution_count": 18,
   "id": "e250a4a7",
   "metadata": {},
   "outputs": [
    {
     "data": {
      "image/png": "[encoded data removed]",
      "text/plain": [
       "<Figure size 432x432 with 2 Axes>"
      ]
     },
     "metadata": {
      "needs_background": "light"
     },
     "output_type": "display_data"
    }
   ],
   "source": [
    "fig, ax = plt.subplots(nrows=1, ncols=2)\n",
    "ax1, ax2 = ax.flatten()\n",
    "ax1.hist(features['KitchenSquare'], bins = 70)\n",
    "ax2.boxplot(features['KitchenSquare'], whis=1.5)\n",
    "fig.set_size_inches(6,6)\n",
    "plt.show()"
   ]
  },
  {
   "cell_type": "code",
   "execution_count": 19,
   "id": "aafaa952",
   "metadata": {},
   "outputs": [
    {
     "data": {
      "image/png": "[encoded data removed]",
      "text/plain": [
       "<Figure size 576x576 with 3 Axes>"
      ]
     },
     "metadata": {
      "needs_background": "light"
     },
     "output_type": "display_data"
    }
   ],
   "source": [
    "grid = sns.jointplot(x = features['Square'], y = features['KitchenSquare'], kind='reg')\n",
    "grid.fig.set_figwidth(8)\n",
    "grid.fig.set_figheight(8)\n",
    "plt.show()"
   ]
  },
  {
   "cell_type": "code",
   "execution_count": 20,
   "id": "4bd42804",
   "metadata": {},
   "outputs": [],
   "source": [
    "features.loc[((features['KitchenSquare'] < features['KitchenSquare'].quantile(0.25)) | \n",
    "             (features['KitchenSquare'] > features['KitchenSquare'].quantile(0.975))) | ((features['KitchenSquare'] < features['KitchenSquare'].median()) & \n",
    "(features['KitchenSquare'] < features['KitchenSquare'].mean())), 'KitchenSquare'] = features['KitchenSquare'].mean()"
   ]
  },
  {
   "cell_type": "markdown",
   "id": "1128e797",
   "metadata": {},
   "source": [
    "#### Square"
   ]
  },
  {
   "cell_type": "code",
   "execution_count": 21,
   "id": "d2f5ea85",
   "metadata": {},
   "outputs": [
    {
     "data": {
      "image/png": "[encoded data removed]",
      "text/plain": [
       "<Figure size 432x288 with 1 Axes>"
      ]
     },
     "metadata": {
      "needs_background": "light"
     },
     "output_type": "display_data"
    }
   ],
   "source": [
    "sns.boxplot(data=features['Square'], whis=1.5)\n",
    "plt.show()"
   ]
  },
  {
   "cell_type": "code",
   "execution_count": 22,
   "id": "240b4a9c",
   "metadata": {},
   "outputs": [
    {
     "data": {
      "text/plain": [
       "(102.08924188493728, 5.586264180189367)"
      ]
     },
     "execution_count": 22,
     "metadata": {},
     "output_type": "execute_result"
    }
   ],
   "source": [
    "intr_qr = features['Square'].quantile(.75) - features['Square'].quantile(.25)\n",
    "upper1 = features['Square'].quantile(.75) + (intr_qr * 1.5)\n",
    "lower1 = features['Square'].quantile(.25) - (intr_qr * 1.5)\n",
    "upper1, lower1"
   ]
  },
  {
   "cell_type": "code",
   "execution_count": 23,
   "id": "3c3342e5",
   "metadata": {},
   "outputs": [
    {
     "data": {
      "text/plain": [
       "(56.315775197935615, 52.51330992401352)"
      ]
     },
     "execution_count": 23,
     "metadata": {},
     "output_type": "execute_result"
    }
   ],
   "source": [
    "features['Square'].mean(),features['Square'].median()"
   ]
  },
  {
   "cell_type": "code",
   "execution_count": 24,
   "id": "322f47b5",
   "metadata": {},
   "outputs": [],
   "source": [
    "features.loc[features['Square'] < lower1, 'Square'] = features['Square'].median()\n",
    "features.loc[features['Square'] > upper1, 'Square'] = features['Square'].mean()"
   ]
  },
  {
   "cell_type": "markdown",
   "id": "d8d33d15",
   "metadata": {},
   "source": [
    "#### LifeSquare"
   ]
  },
  {
   "cell_type": "code",
   "execution_count": 25,
   "id": "8678a650",
   "metadata": {},
   "outputs": [
    {
     "data": {
      "image/png": "[encoded data removed]",
      "text/plain": [
       "<Figure size 432x288 with 1 Axes>"
      ]
     },
     "metadata": {
      "needs_background": "light"
     },
     "output_type": "display_data"
    }
   ],
   "source": [
    "sns.boxplot(data=features['LifeSquare'], whis=1.5)\n",
    "plt.show()"
   ]
  },
  {
   "cell_type": "code",
   "execution_count": 26,
   "id": "cb9d44ef",
   "metadata": {},
   "outputs": [
    {
     "data": {
      "text/plain": [
       "(78.66725866176199, -10.76862370672341)"
      ]
     },
     "execution_count": 26,
     "metadata": {},
     "output_type": "execute_result"
    }
   ],
   "source": [
    "intr_qr = features['LifeSquare'].quantile(.75) - features['LifeSquare'].quantile(.25)\n",
    "upper2 = features['LifeSquare'].quantile(.75) + (intr_qr * 1.5)\n",
    "lower2 = features['LifeSquare'].quantile(.25) - (intr_qr * 1.5)\n",
    "upper2, lower2"
   ]
  },
  {
   "cell_type": "code",
   "execution_count": 27,
   "id": "fff3a86b",
   "metadata": {},
   "outputs": [],
   "source": [
    "features.loc[features['LifeSquare'] > upper2, 'LifeSquare'] = features['LifeSquare'].median()"
   ]
  },
  {
   "cell_type": "code",
   "execution_count": 28,
   "id": "90b14d1e",
   "metadata": {},
   "outputs": [],
   "source": [
    "features.loc[(features['LifeSquare'] > features['Square']) | (features['LifeSquare'].isna()), 'LifeSquare'] = (features['Square'] - features['KitchenSquare']) - 4"
   ]
  },
  {
   "cell_type": "code",
   "execution_count": 29,
   "id": "e6ff42dd",
   "metadata": {},
   "outputs": [
    {
     "data": {
      "image/png": "[encoded data removed]",
      "text/plain": [
       "<Figure size 432x432 with 3 Axes>"
      ]
     },
     "metadata": {
      "needs_background": "light"
     },
     "output_type": "display_data"
    }
   ],
   "source": [
    "sns.jointplot(x = features['Square'], y = features['LifeSquare'], kind='reg')\n",
    "plt.show()"
   ]
  },
  {
   "cell_type": "markdown",
   "id": "6882d03f",
   "metadata": {},
   "source": [
    "#### Floor and HouseFlore"
   ]
  },
  {
   "cell_type": "code",
   "execution_count": 30,
   "id": "f58e5e55",
   "metadata": {},
   "outputs": [
    {
     "data": {
      "image/png": "[encoded data removed]",
      "text/plain": [
       "<Figure size 432x288 with 1 Axes>"
      ]
     },
     "metadata": {
      "needs_background": "light"
     },
     "output_type": "display_data"
    }
   ],
   "source": [
    "sns.boxplot(data=features['Floor'], whis=1.5)\n",
    "plt.show()"
   ]
  },
  {
   "cell_type": "code",
   "execution_count": 31,
   "id": "06762f9a",
   "metadata": {},
   "outputs": [
    {
     "data": {
      "image/png": "[encoded data removed]",
      "text/plain": [
       "<Figure size 432x288 with 1 Axes>"
      ]
     },
     "metadata": {
      "needs_background": "light"
     },
     "output_type": "display_data"
    }
   ],
   "source": [
    "sns.boxplot(data=features['HouseFloor'], whis = 1.5)\n",
    "plt.show()"
   ]
  },
  {
   "cell_type": "code",
   "execution_count": 32,
   "id": "5913c8b6",
   "metadata": {},
   "outputs": [
    {
     "data": {
      "image/png": "[encoded data removed]",
      "text/plain": [
       "<Figure size 432x432 with 3 Axes>"
      ]
     },
     "metadata": {
      "needs_background": "light"
     },
     "output_type": "display_data"
    }
   ],
   "source": [
    "sns.jointplot(x=features['Floor'], y=features['HouseFloor'], kind='reg')\n",
    "\n",
    "plt.show()"
   ]
  },
  {
   "cell_type": "code",
   "execution_count": 33,
   "id": "c946633e",
   "metadata": {},
   "outputs": [
    {
     "data": {
      "text/plain": [
       "(8.5267,\n",
       " 7.0,\n",
       " 0    4\n",
       " dtype: int64)"
      ]
     },
     "execution_count": 33,
     "metadata": {},
     "output_type": "execute_result"
    }
   ],
   "source": [
    "features['Floor'].mean(), features['Floor'].median(),features['Floor'].mode()"
   ]
  },
  {
   "cell_type": "code",
   "execution_count": 34,
   "id": "e9fa5a0a",
   "metadata": {},
   "outputs": [
    {
     "data": {
      "text/plain": [
       "4     949\n",
       "5     876\n",
       "3     872\n",
       "6     802\n",
       "7     759\n",
       "8     643\n",
       "9     604\n",
       "2     588\n",
       "10    553\n",
       "11    457\n",
       "12    438\n",
       "13    398\n",
       "14    362\n",
       "16    290\n",
       "15    287\n",
       "17    256\n",
       "1     235\n",
       "18    185\n",
       "19    121\n",
       "20     68\n",
       "21     59\n",
       "22     54\n",
       "24     53\n",
       "25     34\n",
       "23     25\n",
       "26     18\n",
       "27      5\n",
       "28      3\n",
       "32      2\n",
       "31      1\n",
       "33      1\n",
       "42      1\n",
       "37      1\n",
       "Name: Floor, dtype: int64"
      ]
     },
     "execution_count": 34,
     "metadata": {},
     "output_type": "execute_result"
    }
   ],
   "source": [
    "features['Floor'].value_counts()"
   ]
  },
  {
   "cell_type": "code",
   "execution_count": 35,
   "id": "f1f35535",
   "metadata": {},
   "outputs": [
    {
     "data": {
      "text/plain": [
       "1825"
      ]
     },
     "execution_count": 35,
     "metadata": {},
     "output_type": "execute_result"
    }
   ],
   "source": [
    "(features['Floor'] > features['HouseFloor']).sum()"
   ]
  },
  {
   "cell_type": "code",
   "execution_count": 36,
   "id": "66d615b0",
   "metadata": {},
   "outputs": [
    {
     "data": {
      "text/plain": [
       "(24.0, -8.0)"
      ]
     },
     "execution_count": 36,
     "metadata": {},
     "output_type": "execute_result"
    }
   ],
   "source": [
    "intr_qr = features['Floor'].quantile(.75) - features['Floor'].quantile(.25)\n",
    "upper3 = features['Floor'].quantile(.75) + (intr_qr * 1.5)\n",
    "lower3 = features['Floor'].quantile(.25) - (intr_qr * 1.5)\n",
    "upper3, lower3"
   ]
  },
  {
   "cell_type": "code",
   "execution_count": 37,
   "id": "ddc2b636",
   "metadata": {},
   "outputs": [],
   "source": [
    "features.loc[features['Floor'] > upper3, 'Floor'] = features['Floor'].median()"
   ]
  },
  {
   "cell_type": "code",
   "execution_count": 38,
   "id": "ac0a7474",
   "metadata": {},
   "outputs": [
    {
     "data": {
      "text/plain": [
       "(29.0, -3.0)"
      ]
     },
     "execution_count": 38,
     "metadata": {},
     "output_type": "execute_result"
    }
   ],
   "source": [
    "intr_qr = features['HouseFloor'].quantile(.75) - features['HouseFloor'].quantile(.25)\n",
    "upper4 = features['HouseFloor'].quantile(.75) + (intr_qr * 1.5)\n",
    "lower4 = features['HouseFloor'].quantile(.25) - (intr_qr * 1.5)\n",
    "upper4, lower4"
   ]
  },
  {
   "cell_type": "code",
   "execution_count": 39,
   "id": "c2493920",
   "metadata": {},
   "outputs": [],
   "source": [
    "features['for_h'] = 0"
   ]
  },
  {
   "cell_type": "code",
   "execution_count": 40,
   "id": "d3931e90",
   "metadata": {},
   "outputs": [],
   "source": [
    "features.loc[(features['HouseFloor'] > upper4) |(features['HouseFloor'] == 0) , 'HouseFloor'] = features['HouseFloor'].median()"
   ]
  },
  {
   "cell_type": "code",
   "execution_count": 41,
   "id": "657fbbb5",
   "metadata": {},
   "outputs": [],
   "source": [
    "features.loc[(features['Floor'] > features['HouseFloor']) | (features['HouseFloor'] == 0), 'for_h'] = 1"
   ]
  },
  {
   "cell_type": "code",
   "execution_count": 42,
   "id": "cefb189a",
   "metadata": {},
   "outputs": [],
   "source": [
    "features.loc[features['Floor'] > features['HouseFloor'], 'Floor'] = (features.loc[features['for_h'] == 1, 'HouseFloor']).apply(lambda x: random.randint(1, x))"
   ]
  },
  {
   "cell_type": "code",
   "execution_count": 43,
   "id": "434bcf00",
   "metadata": {},
   "outputs": [
    {
     "data": {
      "text/plain": [
       "0"
      ]
     },
     "execution_count": 43,
     "metadata": {},
     "output_type": "execute_result"
    }
   ],
   "source": [
    "(features['Floor'] > features['HouseFloor']).sum()"
   ]
  },
  {
   "cell_type": "code",
   "execution_count": 44,
   "id": "02d08a8e",
   "metadata": {},
   "outputs": [
    {
     "data": {
      "text/html": [
       "<div>\n",
       "<style scoped>\n",
       "    .dataframe tbody tr th:only-of-type {\n",
       "        vertical-align: middle;\n",
       "    }\n",
       "\n",
       "    .dataframe tbody tr th {\n",
       "        vertical-align: top;\n",
       "    }\n",
       "\n",
       "    .dataframe thead th {\n",
       "        text-align: right;\n",
       "    }\n",
       "</style>\n",
       "<table border=\"1\" class=\"dataframe\">\n",
       "  <thead>\n",
       "    <tr style=\"text-align: right;\">\n",
       "      <th></th>\n",
       "      <th>DistrictId</th>\n",
       "      <th>Rooms</th>\n",
       "      <th>Square</th>\n",
       "      <th>LifeSquare</th>\n",
       "      <th>KitchenSquare</th>\n",
       "      <th>Floor</th>\n",
       "      <th>HouseFloor</th>\n",
       "      <th>HouseYear</th>\n",
       "      <th>Ecology_1</th>\n",
       "      <th>Social_1</th>\n",
       "      <th>Social_2</th>\n",
       "      <th>Social_3</th>\n",
       "      <th>Healthcare_1</th>\n",
       "      <th>Helthcare_2</th>\n",
       "      <th>Shops_1</th>\n",
       "      <th>for_h</th>\n",
       "    </tr>\n",
       "  </thead>\n",
       "  <tbody>\n",
       "    <tr>\n",
       "      <th>count</th>\n",
       "      <td>10000.000000</td>\n",
       "      <td>10000.000000</td>\n",
       "      <td>10000.000000</td>\n",
       "      <td>10000.000000</td>\n",
       "      <td>10000.000000</td>\n",
       "      <td>10000.000000</td>\n",
       "      <td>10000.00000</td>\n",
       "      <td>1.000000e+04</td>\n",
       "      <td>10000.000000</td>\n",
       "      <td>10000.000000</td>\n",
       "      <td>10000.000000</td>\n",
       "      <td>10000.000000</td>\n",
       "      <td>5202.000000</td>\n",
       "      <td>10000.000000</td>\n",
       "      <td>10000.000000</td>\n",
       "      <td>10000.000000</td>\n",
       "    </tr>\n",
       "    <tr>\n",
       "      <th>mean</th>\n",
       "      <td>50.400800</td>\n",
       "      <td>1.888800</td>\n",
       "      <td>54.743585</td>\n",
       "      <td>36.384201</td>\n",
       "      <td>7.442971</td>\n",
       "      <td>7.305600</td>\n",
       "      <td>12.83120</td>\n",
       "      <td>3.990166e+03</td>\n",
       "      <td>0.118858</td>\n",
       "      <td>24.687000</td>\n",
       "      <td>5352.157400</td>\n",
       "      <td>8.039200</td>\n",
       "      <td>1142.904460</td>\n",
       "      <td>1.319500</td>\n",
       "      <td>4.231300</td>\n",
       "      <td>0.159200</td>\n",
       "    </tr>\n",
       "    <tr>\n",
       "      <th>std</th>\n",
       "      <td>43.587592</td>\n",
       "      <td>0.812096</td>\n",
       "      <td>15.858155</td>\n",
       "      <td>14.889737</td>\n",
       "      <td>1.679740</td>\n",
       "      <td>4.899429</td>\n",
       "      <td>6.04946</td>\n",
       "      <td>2.005003e+05</td>\n",
       "      <td>0.119025</td>\n",
       "      <td>17.532614</td>\n",
       "      <td>4006.799803</td>\n",
       "      <td>23.831875</td>\n",
       "      <td>1021.517264</td>\n",
       "      <td>1.493601</td>\n",
       "      <td>4.806341</td>\n",
       "      <td>0.365881</td>\n",
       "    </tr>\n",
       "    <tr>\n",
       "      <th>min</th>\n",
       "      <td>0.000000</td>\n",
       "      <td>1.000000</td>\n",
       "      <td>13.784865</td>\n",
       "      <td>0.370619</td>\n",
       "      <td>6.000000</td>\n",
       "      <td>1.000000</td>\n",
       "      <td>1.00000</td>\n",
       "      <td>1.910000e+03</td>\n",
       "      <td>0.000000</td>\n",
       "      <td>0.000000</td>\n",
       "      <td>168.000000</td>\n",
       "      <td>0.000000</td>\n",
       "      <td>0.000000</td>\n",
       "      <td>0.000000</td>\n",
       "      <td>0.000000</td>\n",
       "      <td>0.000000</td>\n",
       "    </tr>\n",
       "    <tr>\n",
       "      <th>25%</th>\n",
       "      <td>20.000000</td>\n",
       "      <td>1.000000</td>\n",
       "      <td>41.794392</td>\n",
       "      <td>24.688516</td>\n",
       "      <td>6.273300</td>\n",
       "      <td>3.000000</td>\n",
       "      <td>9.00000</td>\n",
       "      <td>1.974000e+03</td>\n",
       "      <td>0.017647</td>\n",
       "      <td>6.000000</td>\n",
       "      <td>1564.000000</td>\n",
       "      <td>0.000000</td>\n",
       "      <td>350.000000</td>\n",
       "      <td>0.000000</td>\n",
       "      <td>1.000000</td>\n",
       "      <td>0.000000</td>\n",
       "    </tr>\n",
       "    <tr>\n",
       "      <th>50%</th>\n",
       "      <td>36.000000</td>\n",
       "      <td>2.000000</td>\n",
       "      <td>52.513580</td>\n",
       "      <td>33.228689</td>\n",
       "      <td>6.273300</td>\n",
       "      <td>6.000000</td>\n",
       "      <td>13.00000</td>\n",
       "      <td>1.977000e+03</td>\n",
       "      <td>0.075424</td>\n",
       "      <td>25.000000</td>\n",
       "      <td>5285.000000</td>\n",
       "      <td>2.000000</td>\n",
       "      <td>900.000000</td>\n",
       "      <td>1.000000</td>\n",
       "      <td>3.000000</td>\n",
       "      <td>0.000000</td>\n",
       "    </tr>\n",
       "    <tr>\n",
       "      <th>75%</th>\n",
       "      <td>75.000000</td>\n",
       "      <td>2.000000</td>\n",
       "      <td>64.682943</td>\n",
       "      <td>46.101050</td>\n",
       "      <td>8.000000</td>\n",
       "      <td>10.000000</td>\n",
       "      <td>17.00000</td>\n",
       "      <td>2.001000e+03</td>\n",
       "      <td>0.195781</td>\n",
       "      <td>36.000000</td>\n",
       "      <td>7227.000000</td>\n",
       "      <td>5.000000</td>\n",
       "      <td>1548.000000</td>\n",
       "      <td>2.000000</td>\n",
       "      <td>6.000000</td>\n",
       "      <td>0.000000</td>\n",
       "    </tr>\n",
       "    <tr>\n",
       "      <th>max</th>\n",
       "      <td>209.000000</td>\n",
       "      <td>6.000000</td>\n",
       "      <td>102.056968</td>\n",
       "      <td>91.759501</td>\n",
       "      <td>13.000000</td>\n",
       "      <td>24.000000</td>\n",
       "      <td>29.00000</td>\n",
       "      <td>2.005201e+07</td>\n",
       "      <td>0.521867</td>\n",
       "      <td>74.000000</td>\n",
       "      <td>19083.000000</td>\n",
       "      <td>141.000000</td>\n",
       "      <td>4849.000000</td>\n",
       "      <td>6.000000</td>\n",
       "      <td>23.000000</td>\n",
       "      <td>1.000000</td>\n",
       "    </tr>\n",
       "  </tbody>\n",
       "</table>\n",
       "</div>"
      ],
      "text/plain": [
       "         DistrictId         Rooms        Square    LifeSquare  KitchenSquare  \\\n",
       "count  10000.000000  10000.000000  10000.000000  10000.000000   10000.000000   \n",
       "mean      50.400800      1.888800     54.743585     36.384201       7.442971   \n",
       "std       43.587592      0.812096     15.858155     14.889737       1.679740   \n",
       "min        0.000000      1.000000     13.784865      0.370619       6.000000   \n",
       "25%       20.000000      1.000000     41.794392     24.688516       6.273300   \n",
       "50%       36.000000      2.000000     52.513580     33.228689       6.273300   \n",
       "75%       75.000000      2.000000     64.682943     46.101050       8.000000   \n",
       "max      209.000000      6.000000    102.056968     91.759501      13.000000   \n",
       "\n",
       "              Floor   HouseFloor     HouseYear     Ecology_1      Social_1  \\\n",
       "count  10000.000000  10000.00000  1.000000e+04  10000.000000  10000.000000   \n",
       "mean       7.305600     12.83120  3.990166e+03      0.118858     24.687000   \n",
       "std        4.899429      6.04946  2.005003e+05      0.119025     17.532614   \n",
       "min        1.000000      1.00000  1.910000e+03      0.000000      0.000000   \n",
       "25%        3.000000      9.00000  1.974000e+03      0.017647      6.000000   \n",
       "50%        6.000000     13.00000  1.977000e+03      0.075424     25.000000   \n",
       "75%       10.000000     17.00000  2.001000e+03      0.195781     36.000000   \n",
       "max       24.000000     29.00000  2.005201e+07      0.521867     74.000000   \n",
       "\n",
       "           Social_2      Social_3  Healthcare_1   Helthcare_2       Shops_1  \\\n",
       "count  10000.000000  10000.000000   5202.000000  10000.000000  10000.000000   \n",
       "mean    5352.157400      8.039200   1142.904460      1.319500      4.231300   \n",
       "std     4006.799803     23.831875   1021.517264      1.493601      4.806341   \n",
       "min      168.000000      0.000000      0.000000      0.000000      0.000000   \n",
       "25%     1564.000000      0.000000    350.000000      0.000000      1.000000   \n",
       "50%     5285.000000      2.000000    900.000000      1.000000      3.000000   \n",
       "75%     7227.000000      5.000000   1548.000000      2.000000      6.000000   \n",
       "max    19083.000000    141.000000   4849.000000      6.000000     23.000000   \n",
       "\n",
       "              for_h  \n",
       "count  10000.000000  \n",
       "mean       0.159200  \n",
       "std        0.365881  \n",
       "min        0.000000  \n",
       "25%        0.000000  \n",
       "50%        0.000000  \n",
       "75%        0.000000  \n",
       "max        1.000000  "
      ]
     },
     "execution_count": 44,
     "metadata": {},
     "output_type": "execute_result"
    }
   ],
   "source": [
    "features.describe()"
   ]
  },
  {
   "cell_type": "markdown",
   "id": "ff42bf9f",
   "metadata": {},
   "source": [
    "#### HouseYear"
   ]
  },
  {
   "cell_type": "code",
   "execution_count": 45,
   "id": "20fcfb90",
   "metadata": {},
   "outputs": [
    {
     "data": {
      "text/plain": [
       "1977        2652\n",
       "2017         308\n",
       "2016         305\n",
       "2015         299\n",
       "2014         210\n",
       "            ... \n",
       "1928           1\n",
       "1910           1\n",
       "1916           1\n",
       "4968           1\n",
       "20052011       1\n",
       "Name: HouseYear, Length: 97, dtype: int64"
      ]
     },
     "execution_count": 45,
     "metadata": {},
     "output_type": "execute_result"
    }
   ],
   "source": [
    "features['HouseYear'].value_counts()"
   ]
  },
  {
   "cell_type": "code",
   "execution_count": 46,
   "id": "7fc20d61",
   "metadata": {},
   "outputs": [
    {
     "data": {
      "text/plain": [
       "(3990.1663,\n",
       " 1977.0,\n",
       " 0    1977\n",
       " dtype: int64)"
      ]
     },
     "execution_count": 46,
     "metadata": {},
     "output_type": "execute_result"
    }
   ],
   "source": [
    "features['HouseYear'].mean(), features['HouseYear'].median(), features['HouseYear'].mode()"
   ]
  },
  {
   "cell_type": "code",
   "execution_count": 47,
   "id": "5face54d",
   "metadata": {},
   "outputs": [],
   "source": [
    "features.loc[features['HouseYear'] > date.today().year, 'HouseYear'] = features['HouseYear'].median()"
   ]
  },
  {
   "cell_type": "code",
   "execution_count": 48,
   "id": "9da34aa4",
   "metadata": {},
   "outputs": [
    {
     "data": {
      "image/png": "[encoded data removed]",
      "text/plain": [
       "<Figure size 432x288 with 1 Axes>"
      ]
     },
     "metadata": {
      "needs_background": "light"
     },
     "output_type": "display_data"
    }
   ],
   "source": [
    "sns.boxplot(data=features['HouseYear'], whis=1.5)\n",
    "plt.show()"
   ]
  },
  {
   "cell_type": "code",
   "execution_count": 49,
   "id": "8f8a905d",
   "metadata": {},
   "outputs": [
    {
     "data": {
      "text/plain": [
       "(2041.5, 1933.5)"
      ]
     },
     "execution_count": 49,
     "metadata": {},
     "output_type": "execute_result"
    }
   ],
   "source": [
    "intr_qr = features['HouseYear'].quantile(.75) - features['HouseYear'].quantile(.25)\n",
    "upper5 = features['HouseYear'].quantile(.75) + (intr_qr * 1.5)\n",
    "lower5 = features['HouseYear'].quantile(.25) - (intr_qr * 1.5)\n",
    "upper5, lower5"
   ]
  },
  {
   "cell_type": "code",
   "execution_count": 50,
   "id": "9d37b9a3",
   "metadata": {},
   "outputs": [],
   "source": [
    "features.loc[features['HouseYear'] < lower5, 'HouseYear'] = features['HouseYear'].median()"
   ]
  },
  {
   "cell_type": "markdown",
   "id": "7c3243bd",
   "metadata": {},
   "source": [
    "#### Ecology_1"
   ]
  },
  {
   "cell_type": "code",
   "execution_count": 51,
   "id": "045b1304",
   "metadata": {},
   "outputs": [
    {
     "data": {
      "text/plain": [
       "(0.11885751885429463,\n",
       " 0.07542368,\n",
       " 0    0.007122\n",
       " dtype: float64)"
      ]
     },
     "execution_count": 51,
     "metadata": {},
     "output_type": "execute_result"
    }
   ],
   "source": [
    "features['Ecology_1'].mean(), features['Ecology_1'].median(), features['Ecology_1'].mode()"
   ]
  },
  {
   "cell_type": "code",
   "execution_count": 52,
   "id": "6299b624",
   "metadata": {},
   "outputs": [
    {
     "data": {
      "text/plain": [
       "<AxesSubplot:>"
      ]
     },
     "execution_count": 52,
     "metadata": {},
     "output_type": "execute_result"
    },
    {
     "data": {
      "image/png": "[encoded data removed]",
      "text/plain": [
       "<Figure size 432x288 with 1 Axes>"
      ]
     },
     "metadata": {
      "needs_background": "light"
     },
     "output_type": "display_data"
    }
   ],
   "source": [
    "sns.boxplot(data=features['Ecology_1'], whis=1.5)"
   ]
  },
  {
   "cell_type": "code",
   "execution_count": 53,
   "id": "f12f13c0",
   "metadata": {},
   "outputs": [
    {
     "data": {
      "text/plain": [
       "(0.46298205300000006, -0.24955394700000003)"
      ]
     },
     "execution_count": 53,
     "metadata": {},
     "output_type": "execute_result"
    }
   ],
   "source": [
    "intr_qr = features['Ecology_1'].quantile(.75) - features['Ecology_1'].quantile(.25)\n",
    "upper6 = features['Ecology_1'].quantile(.75) + (intr_qr * 1.5)\n",
    "lower6 = features['Ecology_1'].quantile(.25) - (intr_qr * 1.5)\n",
    "upper6, lower6"
   ]
  },
  {
   "cell_type": "code",
   "execution_count": 54,
   "id": "ec60cf2f",
   "metadata": {},
   "outputs": [],
   "source": [
    "features.loc[features['Ecology_1'] > upper6, 'Ecology_1'] = features['Ecology_1'].mean()"
   ]
  },
  {
   "cell_type": "markdown",
   "id": "24743849",
   "metadata": {},
   "source": [
    "#### Social"
   ]
  },
  {
   "cell_type": "code",
   "execution_count": 55,
   "id": "e8733986",
   "metadata": {},
   "outputs": [
    {
     "data": {
      "image/png": "[encoded data removed]",
      "text/plain": [
       "<Figure size 432x432 with 3 Axes>"
      ]
     },
     "metadata": {
      "needs_background": "light"
     },
     "output_type": "display_data"
    }
   ],
   "source": [
    "sns.jointplot(x=features['Social_1'], y=features['Social_2'], kind='reg')\n",
    "\n",
    "plt.show()"
   ]
  },
  {
   "cell_type": "markdown",
   "id": "6ea49c9a",
   "metadata": {},
   "source": [
    "#### Healthcare"
   ]
  },
  {
   "cell_type": "code",
   "execution_count": 56,
   "id": "c4393e1f",
   "metadata": {},
   "outputs": [],
   "source": [
    "features.drop('Healthcare_1', axis=1, inplace = True)"
   ]
  },
  {
   "cell_type": "markdown",
   "id": "54461bcd",
   "metadata": {},
   "source": [
    "#### Построение новых признаков"
   ]
  },
  {
   "cell_type": "code",
   "execution_count": 57,
   "id": "7bfa9544",
   "metadata": {},
   "outputs": [],
   "source": [
    "add_feat = {'A':0, 'B':1}"
   ]
  },
  {
   "cell_type": "code",
   "execution_count": 58,
   "id": "a746f7b7",
   "metadata": {},
   "outputs": [],
   "source": [
    "features['Ecology_2'] = features['Ecology_2'].replace(add_feat)\n",
    "features['Ecology_3'] = features['Ecology_3'].replace(add_feat)\n",
    "features['Shops_2'] = features['Shops_2'].replace(add_feat)"
   ]
  },
  {
   "cell_type": "code",
   "execution_count": 59,
   "id": "dd5c7efa",
   "metadata": {},
   "outputs": [
    {
     "data": {
      "text/html": [
       "<div>\n",
       "<style scoped>\n",
       "    .dataframe tbody tr th:only-of-type {\n",
       "        vertical-align: middle;\n",
       "    }\n",
       "\n",
       "    .dataframe tbody tr th {\n",
       "        vertical-align: top;\n",
       "    }\n",
       "\n",
       "    .dataframe thead th {\n",
       "        text-align: right;\n",
       "    }\n",
       "</style>\n",
       "<table border=\"1\" class=\"dataframe\">\n",
       "  <thead>\n",
       "    <tr style=\"text-align: right;\">\n",
       "      <th></th>\n",
       "      <th>DistrictId</th>\n",
       "      <th>Rooms</th>\n",
       "      <th>Square</th>\n",
       "      <th>LifeSquare</th>\n",
       "      <th>KitchenSquare</th>\n",
       "      <th>Floor</th>\n",
       "      <th>HouseFloor</th>\n",
       "      <th>HouseYear</th>\n",
       "      <th>Ecology_1</th>\n",
       "      <th>Ecology_2</th>\n",
       "      <th>Ecology_3</th>\n",
       "      <th>Social_1</th>\n",
       "      <th>Social_2</th>\n",
       "      <th>Social_3</th>\n",
       "      <th>Helthcare_2</th>\n",
       "      <th>Shops_1</th>\n",
       "      <th>Shops_2</th>\n",
       "      <th>for_h</th>\n",
       "    </tr>\n",
       "  </thead>\n",
       "  <tbody>\n",
       "    <tr>\n",
       "      <th>0</th>\n",
       "      <td>27</td>\n",
       "      <td>3.0</td>\n",
       "      <td>56.374350</td>\n",
       "      <td>42.374350</td>\n",
       "      <td>10.0000</td>\n",
       "      <td>4</td>\n",
       "      <td>10.0</td>\n",
       "      <td>2014</td>\n",
       "      <td>0.075424</td>\n",
       "      <td>1</td>\n",
       "      <td>1</td>\n",
       "      <td>11</td>\n",
       "      <td>3097</td>\n",
       "      <td>0</td>\n",
       "      <td>0</td>\n",
       "      <td>0</td>\n",
       "      <td>1</td>\n",
       "      <td>0</td>\n",
       "    </tr>\n",
       "    <tr>\n",
       "      <th>1</th>\n",
       "      <td>22</td>\n",
       "      <td>1.0</td>\n",
       "      <td>39.832524</td>\n",
       "      <td>23.169223</td>\n",
       "      <td>8.0000</td>\n",
       "      <td>7</td>\n",
       "      <td>8.0</td>\n",
       "      <td>1966</td>\n",
       "      <td>0.118537</td>\n",
       "      <td>1</td>\n",
       "      <td>1</td>\n",
       "      <td>30</td>\n",
       "      <td>6207</td>\n",
       "      <td>1</td>\n",
       "      <td>1</td>\n",
       "      <td>0</td>\n",
       "      <td>1</td>\n",
       "      <td>0</td>\n",
       "    </tr>\n",
       "    <tr>\n",
       "      <th>2</th>\n",
       "      <td>1</td>\n",
       "      <td>3.0</td>\n",
       "      <td>78.342215</td>\n",
       "      <td>47.671972</td>\n",
       "      <td>10.0000</td>\n",
       "      <td>2</td>\n",
       "      <td>17.0</td>\n",
       "      <td>1988</td>\n",
       "      <td>0.025609</td>\n",
       "      <td>1</td>\n",
       "      <td>1</td>\n",
       "      <td>33</td>\n",
       "      <td>5261</td>\n",
       "      <td>0</td>\n",
       "      <td>3</td>\n",
       "      <td>1</td>\n",
       "      <td>1</td>\n",
       "      <td>0</td>\n",
       "    </tr>\n",
       "    <tr>\n",
       "      <th>3</th>\n",
       "      <td>1</td>\n",
       "      <td>1.0</td>\n",
       "      <td>40.409907</td>\n",
       "      <td>30.136607</td>\n",
       "      <td>6.2733</td>\n",
       "      <td>10</td>\n",
       "      <td>22.0</td>\n",
       "      <td>1977</td>\n",
       "      <td>0.007122</td>\n",
       "      <td>1</td>\n",
       "      <td>1</td>\n",
       "      <td>1</td>\n",
       "      <td>264</td>\n",
       "      <td>0</td>\n",
       "      <td>0</td>\n",
       "      <td>1</td>\n",
       "      <td>1</td>\n",
       "      <td>0</td>\n",
       "    </tr>\n",
       "    <tr>\n",
       "      <th>4</th>\n",
       "      <td>94</td>\n",
       "      <td>2.0</td>\n",
       "      <td>64.285067</td>\n",
       "      <td>38.562517</td>\n",
       "      <td>9.0000</td>\n",
       "      <td>16</td>\n",
       "      <td>16.0</td>\n",
       "      <td>1972</td>\n",
       "      <td>0.282798</td>\n",
       "      <td>1</td>\n",
       "      <td>1</td>\n",
       "      <td>33</td>\n",
       "      <td>8667</td>\n",
       "      <td>2</td>\n",
       "      <td>0</td>\n",
       "      <td>6</td>\n",
       "      <td>1</td>\n",
       "      <td>0</td>\n",
       "    </tr>\n",
       "    <tr>\n",
       "      <th>...</th>\n",
       "      <td>...</td>\n",
       "      <td>...</td>\n",
       "      <td>...</td>\n",
       "      <td>...</td>\n",
       "      <td>...</td>\n",
       "      <td>...</td>\n",
       "      <td>...</td>\n",
       "      <td>...</td>\n",
       "      <td>...</td>\n",
       "      <td>...</td>\n",
       "      <td>...</td>\n",
       "      <td>...</td>\n",
       "      <td>...</td>\n",
       "      <td>...</td>\n",
       "      <td>...</td>\n",
       "      <td>...</td>\n",
       "      <td>...</td>\n",
       "      <td>...</td>\n",
       "    </tr>\n",
       "    <tr>\n",
       "      <th>9995</th>\n",
       "      <td>61</td>\n",
       "      <td>2.0</td>\n",
       "      <td>49.090728</td>\n",
       "      <td>33.272626</td>\n",
       "      <td>6.0000</td>\n",
       "      <td>3</td>\n",
       "      <td>12.0</td>\n",
       "      <td>1981</td>\n",
       "      <td>0.300323</td>\n",
       "      <td>1</td>\n",
       "      <td>1</td>\n",
       "      <td>52</td>\n",
       "      <td>10311</td>\n",
       "      <td>6</td>\n",
       "      <td>1</td>\n",
       "      <td>9</td>\n",
       "      <td>1</td>\n",
       "      <td>0</td>\n",
       "    </tr>\n",
       "    <tr>\n",
       "      <th>9996</th>\n",
       "      <td>27</td>\n",
       "      <td>2.0</td>\n",
       "      <td>64.307684</td>\n",
       "      <td>37.038420</td>\n",
       "      <td>9.0000</td>\n",
       "      <td>13</td>\n",
       "      <td>13.0</td>\n",
       "      <td>1977</td>\n",
       "      <td>0.072158</td>\n",
       "      <td>1</td>\n",
       "      <td>1</td>\n",
       "      <td>2</td>\n",
       "      <td>629</td>\n",
       "      <td>1</td>\n",
       "      <td>0</td>\n",
       "      <td>0</td>\n",
       "      <td>0</td>\n",
       "      <td>0</td>\n",
       "    </tr>\n",
       "    <tr>\n",
       "      <th>9997</th>\n",
       "      <td>178</td>\n",
       "      <td>1.0</td>\n",
       "      <td>29.648057</td>\n",
       "      <td>16.555363</td>\n",
       "      <td>6.2733</td>\n",
       "      <td>3</td>\n",
       "      <td>5.0</td>\n",
       "      <td>1958</td>\n",
       "      <td>0.460556</td>\n",
       "      <td>1</td>\n",
       "      <td>1</td>\n",
       "      <td>20</td>\n",
       "      <td>4386</td>\n",
       "      <td>14</td>\n",
       "      <td>1</td>\n",
       "      <td>5</td>\n",
       "      <td>1</td>\n",
       "      <td>0</td>\n",
       "    </tr>\n",
       "    <tr>\n",
       "      <th>9998</th>\n",
       "      <td>21</td>\n",
       "      <td>1.0</td>\n",
       "      <td>32.330292</td>\n",
       "      <td>22.326870</td>\n",
       "      <td>6.2733</td>\n",
       "      <td>3</td>\n",
       "      <td>9.0</td>\n",
       "      <td>1969</td>\n",
       "      <td>0.194489</td>\n",
       "      <td>1</td>\n",
       "      <td>1</td>\n",
       "      <td>47</td>\n",
       "      <td>8004</td>\n",
       "      <td>3</td>\n",
       "      <td>3</td>\n",
       "      <td>5</td>\n",
       "      <td>1</td>\n",
       "      <td>0</td>\n",
       "    </tr>\n",
       "    <tr>\n",
       "      <th>9999</th>\n",
       "      <td>94</td>\n",
       "      <td>1.0</td>\n",
       "      <td>35.815476</td>\n",
       "      <td>22.301367</td>\n",
       "      <td>6.0000</td>\n",
       "      <td>9</td>\n",
       "      <td>9.0</td>\n",
       "      <td>1975</td>\n",
       "      <td>0.127376</td>\n",
       "      <td>1</td>\n",
       "      <td>1</td>\n",
       "      <td>43</td>\n",
       "      <td>8429</td>\n",
       "      <td>3</td>\n",
       "      <td>3</td>\n",
       "      <td>9</td>\n",
       "      <td>1</td>\n",
       "      <td>0</td>\n",
       "    </tr>\n",
       "  </tbody>\n",
       "</table>\n",
       "<p>10000 rows × 18 columns</p>\n",
       "</div>"
      ],
      "text/plain": [
       "      DistrictId  Rooms     Square  LifeSquare  KitchenSquare  Floor  \\\n",
       "0             27    3.0  56.374350   42.374350        10.0000      4   \n",
       "1             22    1.0  39.832524   23.169223         8.0000      7   \n",
       "2              1    3.0  78.342215   47.671972        10.0000      2   \n",
       "3              1    1.0  40.409907   30.136607         6.2733     10   \n",
       "4             94    2.0  64.285067   38.562517         9.0000     16   \n",
       "...          ...    ...        ...         ...            ...    ...   \n",
       "9995          61    2.0  49.090728   33.272626         6.0000      3   \n",
       "9996          27    2.0  64.307684   37.038420         9.0000     13   \n",
       "9997         178    1.0  29.648057   16.555363         6.2733      3   \n",
       "9998          21    1.0  32.330292   22.326870         6.2733      3   \n",
       "9999          94    1.0  35.815476   22.301367         6.0000      9   \n",
       "\n",
       "      HouseFloor  HouseYear  Ecology_1  Ecology_2  Ecology_3  Social_1  \\\n",
       "0           10.0       2014   0.075424          1          1        11   \n",
       "1            8.0       1966   0.118537          1          1        30   \n",
       "2           17.0       1988   0.025609          1          1        33   \n",
       "3           22.0       1977   0.007122          1          1         1   \n",
       "4           16.0       1972   0.282798          1          1        33   \n",
       "...          ...        ...        ...        ...        ...       ...   \n",
       "9995        12.0       1981   0.300323          1          1        52   \n",
       "9996        13.0       1977   0.072158          1          1         2   \n",
       "9997         5.0       1958   0.460556          1          1        20   \n",
       "9998         9.0       1969   0.194489          1          1        47   \n",
       "9999         9.0       1975   0.127376          1          1        43   \n",
       "\n",
       "      Social_2  Social_3  Helthcare_2  Shops_1  Shops_2  for_h  \n",
       "0         3097         0            0        0        1      0  \n",
       "1         6207         1            1        0        1      0  \n",
       "2         5261         0            3        1        1      0  \n",
       "3          264         0            0        1        1      0  \n",
       "4         8667         2            0        6        1      0  \n",
       "...        ...       ...          ...      ...      ...    ...  \n",
       "9995     10311         6            1        9        1      0  \n",
       "9996       629         1            0        0        0      0  \n",
       "9997      4386        14            1        5        1      0  \n",
       "9998      8004         3            3        5        1      0  \n",
       "9999      8429         3            3        9        1      0  \n",
       "\n",
       "[10000 rows x 18 columns]"
      ]
     },
     "execution_count": 59,
     "metadata": {},
     "output_type": "execute_result"
    }
   ],
   "source": [
    "features"
   ]
  },
  {
   "cell_type": "markdown",
   "id": "56b43bef",
   "metadata": {},
   "source": [
    "#### Отбор признаков и разбиение модели на train и test"
   ]
  },
  {
   "cell_type": "code",
   "execution_count": 60,
   "id": "dcb825e0",
   "metadata": {},
   "outputs": [],
   "source": [
    "feats = ['DistrictId', 'Rooms', 'Square', 'LifeSquare', 'KitchenSquare', 'Floor', 'HouseFloor', 'HouseYear', 'Ecology_1',\n",
    "        'Ecology_1', 'Ecology_3', 'Social_1', 'Social_2', 'Social_3', 'Helthcare_2', 'Shops_1', 'Shops_2', 'for_h']"
   ]
  },
  {
   "cell_type": "code",
   "execution_count": 61,
   "id": "6fb1a372",
   "metadata": {},
   "outputs": [],
   "source": [
    "X = features[feats]\n",
    "y = train_df['Price']"
   ]
  },
  {
   "cell_type": "code",
   "execution_count": 62,
   "id": "e36408e3",
   "metadata": {},
   "outputs": [],
   "source": [
    "X_train, X_test, y_train, y_test = train_test_split(X, y, test_size=0.3, random_state=42)"
   ]
  },
  {
   "cell_type": "code",
   "execution_count": 63,
   "id": "e8c461db",
   "metadata": {},
   "outputs": [],
   "source": [
    "model = RandomForestRegressor()"
   ]
  },
  {
   "cell_type": "code",
   "execution_count": 64,
   "id": "05840dcf",
   "metadata": {},
   "outputs": [],
   "source": [
    "params = {'n_estimators' : [50,100,150,200], 'max_depth' : [3,5,7,10,20,30,40]}"
   ]
  },
  {
   "cell_type": "code",
   "execution_count": 65,
   "id": "96750fdc",
   "metadata": {},
   "outputs": [],
   "source": [
    "gs = GridSearchCV(model, params, scoring='r2', cv =KFold(n_splits=5, random_state=21, shuffle=True), n_jobs=-1)"
   ]
  },
  {
   "cell_type": "code",
   "execution_count": 66,
   "id": "d6945a08",
   "metadata": {},
   "outputs": [
    {
     "data": {
      "text/plain": [
       "GridSearchCV(cv=KFold(n_splits=5, random_state=21, shuffle=True),\n",
       "             estimator=RandomForestRegressor(), n_jobs=-1,\n",
       "             param_grid={'max_depth': [3, 5, 7, 10, 20, 30, 40],\n",
       "                         'n_estimators': [50, 100, 150, 200]},\n",
       "             scoring='r2')"
      ]
     },
     "execution_count": 66,
     "metadata": {},
     "output_type": "execute_result"
    }
   ],
   "source": [
    "gs.fit(X_train, y_train)"
   ]
  },
  {
   "cell_type": "code",
   "execution_count": 67,
   "id": "f01daa67",
   "metadata": {},
   "outputs": [
    {
     "data": {
      "text/html": [
       "<div>\n",
       "<style scoped>\n",
       "    .dataframe tbody tr th:only-of-type {\n",
       "        vertical-align: middle;\n",
       "    }\n",
       "\n",
       "    .dataframe tbody tr th {\n",
       "        vertical-align: top;\n",
       "    }\n",
       "\n",
       "    .dataframe thead th {\n",
       "        text-align: right;\n",
       "    }\n",
       "</style>\n",
       "<table border=\"1\" class=\"dataframe\">\n",
       "  <thead>\n",
       "    <tr style=\"text-align: right;\">\n",
       "      <th></th>\n",
       "      <th>mean_fit_time</th>\n",
       "      <th>std_fit_time</th>\n",
       "      <th>mean_score_time</th>\n",
       "      <th>std_score_time</th>\n",
       "      <th>param_max_depth</th>\n",
       "      <th>param_n_estimators</th>\n",
       "      <th>params</th>\n",
       "      <th>split0_test_score</th>\n",
       "      <th>split1_test_score</th>\n",
       "      <th>split2_test_score</th>\n",
       "      <th>split3_test_score</th>\n",
       "      <th>split4_test_score</th>\n",
       "      <th>mean_test_score</th>\n",
       "      <th>std_test_score</th>\n",
       "      <th>rank_test_score</th>\n",
       "    </tr>\n",
       "  </thead>\n",
       "  <tbody>\n",
       "    <tr>\n",
       "      <th>0</th>\n",
       "      <td>0.613804</td>\n",
       "      <td>0.026776</td>\n",
       "      <td>0.015007</td>\n",
       "      <td>0.007797</td>\n",
       "      <td>3</td>\n",
       "      <td>50</td>\n",
       "      <td>{'max_depth': 3, 'n_estimators': 50}</td>\n",
       "      <td>0.447205</td>\n",
       "      <td>0.501078</td>\n",
       "      <td>0.515803</td>\n",
       "      <td>0.486799</td>\n",
       "      <td>0.534885</td>\n",
       "      <td>0.497154</td>\n",
       "      <td>0.029627</td>\n",
       "      <td>26</td>\n",
       "    </tr>\n",
       "    <tr>\n",
       "      <th>1</th>\n",
       "      <td>1.214156</td>\n",
       "      <td>0.016793</td>\n",
       "      <td>0.024226</td>\n",
       "      <td>0.005120</td>\n",
       "      <td>3</td>\n",
       "      <td>100</td>\n",
       "      <td>{'max_depth': 3, 'n_estimators': 100}</td>\n",
       "      <td>0.447787</td>\n",
       "      <td>0.499155</td>\n",
       "      <td>0.517114</td>\n",
       "      <td>0.482444</td>\n",
       "      <td>0.536005</td>\n",
       "      <td>0.496501</td>\n",
       "      <td>0.030210</td>\n",
       "      <td>27</td>\n",
       "    </tr>\n",
       "    <tr>\n",
       "      <th>2</th>\n",
       "      <td>1.794045</td>\n",
       "      <td>0.041215</td>\n",
       "      <td>0.031921</td>\n",
       "      <td>0.003212</td>\n",
       "      <td>3</td>\n",
       "      <td>150</td>\n",
       "      <td>{'max_depth': 3, 'n_estimators': 150}</td>\n",
       "      <td>0.447066</td>\n",
       "      <td>0.497282</td>\n",
       "      <td>0.522876</td>\n",
       "      <td>0.483921</td>\n",
       "      <td>0.535217</td>\n",
       "      <td>0.497272</td>\n",
       "      <td>0.030966</td>\n",
       "      <td>25</td>\n",
       "    </tr>\n",
       "    <tr>\n",
       "      <th>3</th>\n",
       "      <td>2.366064</td>\n",
       "      <td>0.032107</td>\n",
       "      <td>0.038857</td>\n",
       "      <td>0.003273</td>\n",
       "      <td>3</td>\n",
       "      <td>200</td>\n",
       "      <td>{'max_depth': 3, 'n_estimators': 200}</td>\n",
       "      <td>0.444360</td>\n",
       "      <td>0.499328</td>\n",
       "      <td>0.520408</td>\n",
       "      <td>0.482449</td>\n",
       "      <td>0.534930</td>\n",
       "      <td>0.496295</td>\n",
       "      <td>0.031535</td>\n",
       "      <td>28</td>\n",
       "    </tr>\n",
       "    <tr>\n",
       "      <th>4</th>\n",
       "      <td>0.911461</td>\n",
       "      <td>0.022908</td>\n",
       "      <td>0.017368</td>\n",
       "      <td>0.002720</td>\n",
       "      <td>5</td>\n",
       "      <td>50</td>\n",
       "      <td>{'max_depth': 5, 'n_estimators': 50}</td>\n",
       "      <td>0.569818</td>\n",
       "      <td>0.594472</td>\n",
       "      <td>0.622475</td>\n",
       "      <td>0.592413</td>\n",
       "      <td>0.623882</td>\n",
       "      <td>0.600612</td>\n",
       "      <td>0.020360</td>\n",
       "      <td>23</td>\n",
       "    </tr>\n",
       "  </tbody>\n",
       "</table>\n",
       "</div>"
      ],
      "text/plain": [
       "   mean_fit_time  std_fit_time  mean_score_time  std_score_time  \\\n",
       "0       0.613804      0.026776         0.015007        0.007797   \n",
       "1       1.214156      0.016793         0.024226        0.005120   \n",
       "2       1.794045      0.041215         0.031921        0.003212   \n",
       "3       2.366064      0.032107         0.038857        0.003273   \n",
       "4       0.911461      0.022908         0.017368        0.002720   \n",
       "\n",
       "  param_max_depth param_n_estimators                                 params  \\\n",
       "0               3                 50   {'max_depth': 3, 'n_estimators': 50}   \n",
       "1               3                100  {'max_depth': 3, 'n_estimators': 100}   \n",
       "2               3                150  {'max_depth': 3, 'n_estimators': 150}   \n",
       "3               3                200  {'max_depth': 3, 'n_estimators': 200}   \n",
       "4               5                 50   {'max_depth': 5, 'n_estimators': 50}   \n",
       "\n",
       "   split0_test_score  split1_test_score  split2_test_score  split3_test_score  \\\n",
       "0           0.447205           0.501078           0.515803           0.486799   \n",
       "1           0.447787           0.499155           0.517114           0.482444   \n",
       "2           0.447066           0.497282           0.522876           0.483921   \n",
       "3           0.444360           0.499328           0.520408           0.482449   \n",
       "4           0.569818           0.594472           0.622475           0.592413   \n",
       "\n",
       "   split4_test_score  mean_test_score  std_test_score  rank_test_score  \n",
       "0           0.534885         0.497154        0.029627               26  \n",
       "1           0.536005         0.496501        0.030210               27  \n",
       "2           0.535217         0.497272        0.030966               25  \n",
       "3           0.534930         0.496295        0.031535               28  \n",
       "4           0.623882         0.600612        0.020360               23  "
      ]
     },
     "execution_count": 67,
     "metadata": {},
     "output_type": "execute_result"
    }
   ],
   "source": [
    "res = pd.DataFrame(gs.cv_results_)\n",
    "res.head()"
   ]
  },
  {
   "cell_type": "code",
   "execution_count": 68,
   "id": "ea13b2a1",
   "metadata": {},
   "outputs": [
    {
     "data": {
      "text/plain": [
       "{'max_depth': 40, 'n_estimators': 150}"
      ]
     },
     "execution_count": 68,
     "metadata": {},
     "output_type": "execute_result"
    }
   ],
   "source": [
    "gs.best_params_"
   ]
  },
  {
   "cell_type": "code",
   "execution_count": 69,
   "id": "f2b7d611",
   "metadata": {},
   "outputs": [
    {
     "data": {
      "text/plain": [
       "0.7155643895610714"
      ]
     },
     "execution_count": 69,
     "metadata": {},
     "output_type": "execute_result"
    }
   ],
   "source": [
    "gs.best_score_"
   ]
  },
  {
   "cell_type": "code",
   "execution_count": 70,
   "id": "bd7e4309",
   "metadata": {},
   "outputs": [],
   "source": [
    "final_model = RandomForestRegressor(criterion='mse', max_depth=40, n_estimators= 150, random_state =40)"
   ]
  },
  {
   "cell_type": "code",
   "execution_count": 71,
   "id": "7d1c57b7",
   "metadata": {},
   "outputs": [
    {
     "data": {
      "text/plain": [
       "RandomForestRegressor(max_depth=40, n_estimators=150, random_state=40)"
      ]
     },
     "execution_count": 71,
     "metadata": {},
     "output_type": "execute_result"
    }
   ],
   "source": [
    "final_model.fit(X_train, y_train)"
   ]
  },
  {
   "cell_type": "code",
   "execution_count": 72,
   "id": "bd047561",
   "metadata": {},
   "outputs": [],
   "source": [
    "y_train_preds = final_model.predict(X_train)"
   ]
  },
  {
   "cell_type": "code",
   "execution_count": 73,
   "id": "88c1eb24",
   "metadata": {},
   "outputs": [],
   "source": [
    "y_test_preds = final_model.predict(X_test)"
   ]
  },
  {
   "cell_type": "code",
   "execution_count": 74,
   "id": "963a743c",
   "metadata": {},
   "outputs": [
    {
     "name": "stdout",
     "output_type": "stream",
     "text": [
      "Train R2:\t0.961\n",
      "Test R2:\t0.721\n"
     ]
    },
    {
     "data": {
      "image/png": "[encoded data removed]",
      "text/plain": [
       "<Figure size 1296x720 with 2 Axes>"
      ]
     },
     "metadata": {
      "needs_background": "light"
     },
     "output_type": "display_data"
    }
   ],
   "source": [
    "evaluate_preds(y_train, y_train_preds, y_test, y_test_preds)"
   ]
  },
  {
   "cell_type": "markdown",
   "id": "d15d4e58",
   "metadata": {},
   "source": [
    "#### Подготовка test"
   ]
  },
  {
   "cell_type": "markdown",
   "id": "a93aa358",
   "metadata": {},
   "source": [
    "#### Rooms"
   ]
  },
  {
   "cell_type": "code",
   "execution_count": 75,
   "id": "61cbaaaa",
   "metadata": {},
   "outputs": [],
   "source": [
    "test_df.loc[(test_df['Rooms'] > 6) | (test_df['Rooms'] < 1), 'Rooms'] = test_df['Rooms'].median()"
   ]
  },
  {
   "cell_type": "markdown",
   "id": "7a623eb7",
   "metadata": {},
   "source": [
    "#### KitchenSquare"
   ]
  },
  {
   "cell_type": "code",
   "execution_count": 76,
   "id": "64d61834",
   "metadata": {},
   "outputs": [],
   "source": [
    "test_df.loc[((test_df['KitchenSquare'] < test_df['KitchenSquare'].quantile(0.25)) | \n",
    "             (test_df['KitchenSquare'] > test_df['KitchenSquare'].quantile(0.975))) | ((test_df['KitchenSquare'] < test_df['KitchenSquare'].median()) & \n",
    "(test_df['KitchenSquare'] < test_df['KitchenSquare'].mean())), 'KitchenSquare'] = test_df['KitchenSquare'].mean()"
   ]
  },
  {
   "cell_type": "markdown",
   "id": "844af453",
   "metadata": {},
   "source": [
    "#### Square"
   ]
  },
  {
   "cell_type": "code",
   "execution_count": 77,
   "id": "e4d48682",
   "metadata": {},
   "outputs": [
    {
     "data": {
      "text/plain": [
       "(102.85347643285048, 5.337883253363636)"
      ]
     },
     "execution_count": 77,
     "metadata": {},
     "output_type": "execute_result"
    }
   ],
   "source": [
    "intr_qr = test_df['Square'].quantile(.75) - test_df['Square'].quantile(.25)\n",
    "upper1 = test_df['Square'].quantile(.75) + (intr_qr * 1.5)\n",
    "lower1 = test_df['Square'].quantile(.25) - (intr_qr * 1.5)\n",
    "upper1, lower1"
   ]
  },
  {
   "cell_type": "code",
   "execution_count": 78,
   "id": "822acd33",
   "metadata": {},
   "outputs": [],
   "source": [
    "test_df.loc[test_df['Square'] < lower1, 'Square'] = test_df['Square'].median()\n",
    "test_df.loc[test_df['Square'] > upper1, 'Square'] = test_df['Square'].mean()"
   ]
  },
  {
   "cell_type": "markdown",
   "id": "22bfd800",
   "metadata": {},
   "source": [
    "#### LifeSquare"
   ]
  },
  {
   "cell_type": "code",
   "execution_count": 79,
   "id": "d68f42b6",
   "metadata": {},
   "outputs": [
    {
     "data": {
      "text/plain": [
       "(78.29718906362993, -10.031071759483911)"
      ]
     },
     "execution_count": 79,
     "metadata": {},
     "output_type": "execute_result"
    }
   ],
   "source": [
    "intr_qr = test_df['LifeSquare'].quantile(.75) - test_df['LifeSquare'].quantile(.25)\n",
    "upper2 = test_df['LifeSquare'].quantile(.75) + (intr_qr * 1.5)\n",
    "lower2 = test_df['LifeSquare'].quantile(.25) - (intr_qr * 1.5)\n",
    "upper2, lower2"
   ]
  },
  {
   "cell_type": "code",
   "execution_count": 80,
   "id": "ca60e8df",
   "metadata": {},
   "outputs": [],
   "source": [
    "test_df.loc[test_df['LifeSquare'] > upper2, 'LifeSquare'] = test_df['LifeSquare'].median()"
   ]
  },
  {
   "cell_type": "code",
   "execution_count": 81,
   "id": "4e532b94",
   "metadata": {},
   "outputs": [],
   "source": [
    "test_df.loc[(test_df['LifeSquare'] > test_df['Square']) | (test_df['LifeSquare'].isna()), 'LifeSquare'] = (test_df['Square'] - test_df['KitchenSquare']) - 4"
   ]
  },
  {
   "cell_type": "markdown",
   "id": "f020424b",
   "metadata": {},
   "source": [
    "#### Floor and HouseFlore"
   ]
  },
  {
   "cell_type": "code",
   "execution_count": 82,
   "id": "e1d767b4",
   "metadata": {},
   "outputs": [
    {
     "data": {
      "text/plain": [
       "(24.0, -8.0)"
      ]
     },
     "execution_count": 82,
     "metadata": {},
     "output_type": "execute_result"
    }
   ],
   "source": [
    "intr_qr = test_df['Floor'].quantile(.75) - test_df['Floor'].quantile(.25)\n",
    "upper3 = test_df['Floor'].quantile(.75) + (intr_qr * 1.5)\n",
    "lower3 = test_df['Floor'].quantile(.25) - (intr_qr * 1.5)\n",
    "upper3, lower3"
   ]
  },
  {
   "cell_type": "code",
   "execution_count": 83,
   "id": "c55f538c",
   "metadata": {},
   "outputs": [
    {
     "data": {
      "text/plain": [
       "(29.0, -3.0)"
      ]
     },
     "execution_count": 83,
     "metadata": {},
     "output_type": "execute_result"
    }
   ],
   "source": [
    "intr_qr = test_df['HouseFloor'].quantile(.75) - test_df['HouseFloor'].quantile(.25)\n",
    "upper4 = test_df['HouseFloor'].quantile(.75) + (intr_qr * 1.5)\n",
    "lower4 = test_df['HouseFloor'].quantile(.25) - (intr_qr * 1.5)\n",
    "upper4, lower4"
   ]
  },
  {
   "cell_type": "code",
   "execution_count": 84,
   "id": "771f9bb2",
   "metadata": {},
   "outputs": [],
   "source": [
    "test_df.loc[test_df['Floor'] > upper3, 'Floor'] = test_df['Floor'].median()"
   ]
  },
  {
   "cell_type": "code",
   "execution_count": 85,
   "id": "0dd0785e",
   "metadata": {},
   "outputs": [],
   "source": [
    "test_df['for_h'] = 0"
   ]
  },
  {
   "cell_type": "code",
   "execution_count": 86,
   "id": "965602d7",
   "metadata": {},
   "outputs": [],
   "source": [
    "test_df.loc[(test_df['HouseFloor'] > upper4) |(test_df['HouseFloor'] == 0) , 'HouseFloor'] = test_df['HouseFloor'].median()"
   ]
  },
  {
   "cell_type": "code",
   "execution_count": 87,
   "id": "caa36130",
   "metadata": {},
   "outputs": [],
   "source": [
    "test_df.loc[(test_df['Floor'] > test_df['HouseFloor']) | (test_df['HouseFloor'] == 0), 'for_h'] = 1"
   ]
  },
  {
   "cell_type": "code",
   "execution_count": 88,
   "id": "8af6b54a",
   "metadata": {},
   "outputs": [],
   "source": [
    "test_df.loc[test_df['Floor'] > test_df['HouseFloor'], 'Floor'] = (test_df.loc[test_df['for_h'] == 1, 'HouseFloor']).apply(lambda x: random.randint(1, x))"
   ]
  },
  {
   "cell_type": "markdown",
   "id": "203a175d",
   "metadata": {},
   "source": [
    "#### HouseYear"
   ]
  },
  {
   "cell_type": "code",
   "execution_count": 89,
   "id": "567c9dc0",
   "metadata": {},
   "outputs": [
    {
     "data": {
      "text/plain": [
       "(2040.5, 1932.5)"
      ]
     },
     "execution_count": 89,
     "metadata": {},
     "output_type": "execute_result"
    }
   ],
   "source": [
    "intr_qr = test_df['HouseYear'].quantile(.75) - test_df['HouseYear'].quantile(.25)\n",
    "upper5 = test_df['HouseYear'].quantile(.75) + (intr_qr * 1.5)\n",
    "lower5 = test_df['HouseYear'].quantile(.25) - (intr_qr * 1.5)\n",
    "upper5, lower5"
   ]
  },
  {
   "cell_type": "code",
   "execution_count": 90,
   "id": "db6972de",
   "metadata": {},
   "outputs": [],
   "source": [
    "test_df.loc[test_df['HouseYear'] > date.today().year, 'HouseYear'] = test_df['HouseYear'].median()"
   ]
  },
  {
   "cell_type": "code",
   "execution_count": 91,
   "id": "74e92bca",
   "metadata": {},
   "outputs": [],
   "source": [
    "test_df.loc[test_df['HouseYear'] < lower5, 'HouseYear'] = test_df['HouseYear'].median()"
   ]
  },
  {
   "cell_type": "markdown",
   "id": "8602c987",
   "metadata": {},
   "source": [
    "#### Ecology_1"
   ]
  },
  {
   "cell_type": "code",
   "execution_count": 92,
   "id": "ef7d98df",
   "metadata": {},
   "outputs": [
    {
     "data": {
      "text/plain": [
       "(0.46018943850000005, -0.24489958950000001)"
      ]
     },
     "execution_count": 92,
     "metadata": {},
     "output_type": "execute_result"
    }
   ],
   "source": [
    "intr_qr = test_df['Ecology_1'].quantile(.75) - test_df['Ecology_1'].quantile(.25)\n",
    "upper6 = test_df['Ecology_1'].quantile(.75) + (intr_qr * 1.5)\n",
    "lower6 = test_df['Ecology_1'].quantile(.25) - (intr_qr * 1.5)\n",
    "upper6, lower6"
   ]
  },
  {
   "cell_type": "code",
   "execution_count": 93,
   "id": "bc81bd7b",
   "metadata": {},
   "outputs": [],
   "source": [
    "test_df.loc[features['Ecology_1'] > upper6, 'Ecology_1'] = test_df['Ecology_1'].mean()"
   ]
  },
  {
   "cell_type": "markdown",
   "id": "26a9a46f",
   "metadata": {},
   "source": [
    "#### Healthcare"
   ]
  },
  {
   "cell_type": "code",
   "execution_count": 94,
   "id": "fe046930",
   "metadata": {},
   "outputs": [],
   "source": [
    "test_df.drop('Healthcare_1', axis=1, inplace = True)"
   ]
  },
  {
   "cell_type": "markdown",
   "id": "65f1c6bb",
   "metadata": {},
   "source": [
    "#### Новые фичи"
   ]
  },
  {
   "cell_type": "code",
   "execution_count": 95,
   "id": "cb32ca02",
   "metadata": {},
   "outputs": [],
   "source": [
    "test_df['Ecology_2'] = test_df['Ecology_2'].replace(add_feat)\n",
    "test_df['Ecology_3'] = test_df['Ecology_3'].replace(add_feat)\n",
    "test_df['Shops_2'] = test_df['Shops_2'].replace(add_feat)"
   ]
  },
  {
   "cell_type": "markdown",
   "id": "cdc1a1ea",
   "metadata": {},
   "source": [
    "#### Итоговый тест"
   ]
  },
  {
   "cell_type": "code",
   "execution_count": 96,
   "id": "e29ec39e",
   "metadata": {},
   "outputs": [
    {
     "data": {
      "text/plain": [
       "RandomForestRegressor(max_depth=40, n_estimators=150, random_state=40)"
      ]
     },
     "execution_count": 96,
     "metadata": {},
     "output_type": "execute_result"
    }
   ],
   "source": [
    "final_model.fit(X,y)"
   ]
  },
  {
   "cell_type": "code",
   "execution_count": 97,
   "id": "ac2b3432",
   "metadata": {},
   "outputs": [
    {
     "data": {
      "text/html": [
       "<div>\n",
       "<style scoped>\n",
       "    .dataframe tbody tr th:only-of-type {\n",
       "        vertical-align: middle;\n",
       "    }\n",
       "\n",
       "    .dataframe tbody tr th {\n",
       "        vertical-align: top;\n",
       "    }\n",
       "\n",
       "    .dataframe thead th {\n",
       "        text-align: right;\n",
       "    }\n",
       "</style>\n",
       "<table border=\"1\" class=\"dataframe\">\n",
       "  <thead>\n",
       "    <tr style=\"text-align: right;\">\n",
       "      <th></th>\n",
       "      <th>Predict</th>\n",
       "    </tr>\n",
       "  </thead>\n",
       "  <tbody>\n",
       "    <tr>\n",
       "      <th>0</th>\n",
       "      <td>159570.976552</td>\n",
       "    </tr>\n",
       "    <tr>\n",
       "      <th>1</th>\n",
       "      <td>119353.185224</td>\n",
       "    </tr>\n",
       "    <tr>\n",
       "      <th>2</th>\n",
       "      <td>139199.795509</td>\n",
       "    </tr>\n",
       "    <tr>\n",
       "      <th>3</th>\n",
       "      <td>136600.624706</td>\n",
       "    </tr>\n",
       "    <tr>\n",
       "      <th>4</th>\n",
       "      <td>210543.891572</td>\n",
       "    </tr>\n",
       "    <tr>\n",
       "      <th>...</th>\n",
       "      <td>...</td>\n",
       "    </tr>\n",
       "    <tr>\n",
       "      <th>4995</th>\n",
       "      <td>179102.621582</td>\n",
       "    </tr>\n",
       "    <tr>\n",
       "      <th>4996</th>\n",
       "      <td>402225.704754</td>\n",
       "    </tr>\n",
       "    <tr>\n",
       "      <th>4997</th>\n",
       "      <td>138226.749155</td>\n",
       "    </tr>\n",
       "    <tr>\n",
       "      <th>4998</th>\n",
       "      <td>193479.984871</td>\n",
       "    </tr>\n",
       "    <tr>\n",
       "      <th>4999</th>\n",
       "      <td>241698.960722</td>\n",
       "    </tr>\n",
       "  </tbody>\n",
       "</table>\n",
       "<p>5000 rows × 1 columns</p>\n",
       "</div>"
      ],
      "text/plain": [
       "            Predict\n",
       "0     159570.976552\n",
       "1     119353.185224\n",
       "2     139199.795509\n",
       "3     136600.624706\n",
       "4     210543.891572\n",
       "...             ...\n",
       "4995  179102.621582\n",
       "4996  402225.704754\n",
       "4997  138226.749155\n",
       "4998  193479.984871\n",
       "4999  241698.960722\n",
       "\n",
       "[5000 rows x 1 columns]"
      ]
     },
     "execution_count": 97,
     "metadata": {},
     "output_type": "execute_result"
    }
   ],
   "source": [
    "result = test_df[feats]\n",
    "pd.DataFrame(final_model.predict(result), columns=['Predict'])"
   ]
  },
  {
   "cell_type": "code",
   "execution_count": null,
   "id": "401aba7a",
   "metadata": {},
   "outputs": [],
   "source": []
  }
 ],
 "metadata": {
  "kernelspec": {
   "display_name": "Python 3 (ipykernel)",
   "language": "python",
   "name": "python3"
  },
  "language_info": {
   "codemirror_mode": {
    "name": "ipython",
    "version": 3
   },
   "file_extension": ".py",
   "mimetype": "text/x-python",
   "name": "python",
   "nbconvert_exporter": "python",
   "pygments_lexer": "ipython3",
   "version": "3.9.7"
  }
 },
 "nbformat": 4,
 "nbformat_minor": 5
}
